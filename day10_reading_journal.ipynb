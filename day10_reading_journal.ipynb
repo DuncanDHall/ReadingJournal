{
 "cells": [
  {
   "cell_type": "markdown",
   "metadata": {},
   "source": [
    "# Day 10 Reading Journal\n",
    "\n",
    "This journal includes several required exercises, but it is meant to encourage active reading more generally.  You should use the journal to take detailed notes, catalog questions, and explore the content from Think Python deeply.\n",
    "\n",
    "Reading: Think Python Chapter 16, 17\n",
    "\n",
    "**Due: Thursday, February 25 at 12 noon**\n"
   ]
  },
  {
   "cell_type": "markdown",
   "metadata": {},
   "source": [
    "## [Chapter 16](http://www.greenteapress.com/thinkpython/html/thinkpython017.html)\n",
    "\n",
    "- a **pure function** does not modify any of the objects passed as arguments and has no effect in runtime other than returning a value\n",
    "- **modifier** functions modify the object parameters\n",
    "- **functional programming** tends towards pure functions over modifiers\n",
    "- in **prototyped** development, we create a rough function that does kind-of what we want, and then *patch* it as errors arise\n",
    "- in **planned** development, we take advantage of our knowledge of the objects we're dealing with to plan clever, all-encompassing solutions"
   ]
  },
  {
   "cell_type": "markdown",
   "metadata": {
    "is_question": true,
    "problem": "Exercise 16.2"
   },
   "source": [
    "### Exercise 2  \n",
    "\n",
    "Write a boolean function called `is_after` that takes two `Time` objects, `t1` and `t2`, and returns `True` if `t1` follows `t2` chronologically and `False` otherwise. Challenge: don’t use an `if` statement. "
   ]
  },
  {
   "cell_type": "code",
   "execution_count": null,
   "metadata": {
    "collapsed": true,
    "solution": "Exercise 16.2"
   },
   "outputs": [],
   "source": [
    "def is_after(t1, t2):\n",
    "    t1_sec = t1.seconds + 60*(t1.minutes + 60*(t1.hours))\n",
    "    t2_sec = t2.seconds + 60*(t2.minutes + 60*(t2.hours))\n",
    "    return t1 > t2\n"
   ]
  },
  {
   "cell_type": "markdown",
   "metadata": {},
   "source": [
    "## [Chapter 17](http://www.greenteapress.com/thinkpython/html/thinkpython018.html)\n",
    "\n",
    "In chapter 17 we finally have the tools to really put user-defined classes to work! In the exercises for this reading journal, we'll go back and add methods to your `Point` class from Chapter 15 to make it a lot easier to use.\n",
    "\n",
    "- object-oriented programming is all about representing real-world constructs or objects in code (for example, creating a Time class to represent times).\n",
    "- functions which are associated with a particular object type can be defined within a class definition, and are called **methods**\n",
    "- **`__init__()`** methods are used to **initialize** a set of attributes in an instance of a class (an object) at it's creation. \n",
    "- remember to pass `self` as first parameter in definition, but not when initializing\n",
    "- default values can be defined in the `init` method -- **BUT WAIT!!!** default objects created will be referenced by all instances. So generally you want to insulate against this:\n",
    "``` Python\n",
    "def init(self, default=None):\n",
    "    if default == None:\n",
    "        default = 'default value'\n",
    "```\n",
    "- the **`__str__()`** method is used to provide a string representation of the object. pass `self`\n",
    "- this is useful for debugging\n",
    "- you can [override the behaviors of operators](http://docs.python.org/2/reference/datamodel.html#specialnames) for user-defined types. example: `__add__()` is called for the `+` operator\n",
    "- one can modify the behaviors of operators based on the other operand type with `if isinstant()`\n",
    "- functions which work with a variety of types of arguments are said to be **polymorphic**\n",
    "- code outside of a class definition should access attributes only through methods, the principal of **information hiding**"
   ]
  },
  {
   "cell_type": "markdown",
   "metadata": {
    "is_question": true,
    "problem": "Exercise 17.2"
   },
   "source": [
    "### Exercise 2  \n",
    "\n",
    "Write an init method for the `Point` class that takes `x` and `y` as optional parameters and assigns them to the corresponding attributes. "
   ]
  },
  {
   "cell_type": "code",
   "execution_count": null,
   "metadata": {
    "collapsed": true,
    "solution": "Exercise 17.2"
   },
   "outputs": [],
   "source": [
    "def Point(object):\n",
    "    def __init__(self, x, y):\n",
    "        self.x = x\n",
    "        self.y = y"
   ]
  },
  {
   "cell_type": "markdown",
   "metadata": {
    "is_question": true,
    "problem": "Exercise 17.3"
   },
   "source": [
    "### Exercise 3  \n",
    "\n",
    "Write a str method for the `Point` class. Create a `Point` object and print it."
   ]
  },
  {
   "cell_type": "code",
   "execution_count": null,
   "metadata": {
    "collapsed": true,
    "solution": "Exercise 17.3"
   },
   "outputs": [],
   "source": [
    "def Point(object):\n",
    "    def __init__(self, x, y):\n",
    "        self.x = x\n",
    "        self.y = y\n",
    "    def __str__(self):\n",
    "        print 'Point instance at ({}, {})'.format(self.x, self.y)"
   ]
  },
  {
   "cell_type": "markdown",
   "metadata": {
    "is_question": true,
    "problem": "Exercise 17.4"
   },
   "source": [
    "### Exercise 4  \n",
    "\n",
    "Write an add method for the `Point` class. Optional: implement operator overloading so that you can use the '+' operator."
   ]
  },
  {
   "cell_type": "code",
   "execution_count": null,
   "metadata": {
    "collapsed": true,
    "solution": "Exercise 17.4"
   },
   "outputs": [],
   "source": [
    "def Line(object):\n",
    "    def __init__(self, p1, p2):\n",
    "        self.p1 = p1\n",
    "        self.p2 = p2\n",
    "        \n",
    "        \n",
    "def Point(object):\n",
    "    def __init__(self, x, y):\n",
    "        self.x = x\n",
    "        self.y = y\n",
    "    def __str__(self):\n",
    "        print 'Point instance at ({}, {}).'.format(self.x, self.y)\n",
    "        \n",
    "    def __add__(self, other):\n",
    "        return Line(self, other)\n"
   ]
  },
  {
   "cell_type": "markdown",
   "metadata": {
    "is_question": true,
    "problem": "Exercise 17.7"
   },
   "source": [
    "### Exercise 7  \n",
    "\n",
    "This exercise is a cautionary tale about one of the most common, and difficult to find, errors in Python. Write a definition for a class named `Kangaroo` with the following methods:\n",
    "\n",
    " 1. An `__init__` method that initializes an attribute named `pouch_contents` to an empty list.\n",
    " 2. A method named `put_in_pouch` that takes an object of any type and adds it to `pouch_contents`.\n",
    " 3. A `__str__` method that returns a string representation of the `Kangaroo` object and the contents of the pouch.\n",
    "\n",
    "Test your code by creating two `Kangaroo` objects, assigning them to variables named `kanga` and `roo`, and then adding `roo` to the contents of `kanga`’s pouch.\n",
    "\n",
    "Download http://thinkpython.com/code/BadKangaroo.py. It contains a solution to the previous problem with one big, nasty bug. Find and fix the bug.\n",
    "\n",
    "If you get stuck, you can download http://thinkpython.com/code/GoodKangaroo.py, which explains the problem and demonstrates a solution. "
   ]
  },
  {
   "cell_type": "code",
   "execution_count": 10,
   "metadata": {
    "collapsed": false,
    "solution": "Exercise 17.7"
   },
   "outputs": [
    {
     "name": "stdout",
     "output_type": "stream",
     "text": [
      "Kangaroo instance with pouch contents None.\n"
     ]
    }
   ],
   "source": [
    "class Kangaroo(object):\n",
    "    def __init__(self):\n",
    "        self.pouch_contents = []\n",
    "    def put_in_pouch(self, any_object):\n",
    "        self.pouch_contents = self.pouch_contents.append(any_object)\n",
    "    def __str__(self):\n",
    "        return 'Kangaroo instance with pouch contents {}.'.format(self.pouch_contents)\n",
    "    \n",
    "kanga = Kangaroo()\n",
    "roo = Kangaroo()\n",
    "\n",
    "kanga.put_in_pouch(roo)\n",
    "print kanga"
   ]
  },
  {
   "cell_type": "code",
   "execution_count": 6,
   "metadata": {
    "collapsed": false
   },
   "outputs": [
    {
     "name": "stdout",
     "output_type": "stream",
     "text": [
      "['wallet', 'car keys', <__main__.Kangaroo object at 0x109f7a890>]\n"
     ]
    }
   ],
   "source": [
    "\"\"\"\n",
    "\n",
    "This program is part of an exercise in\n",
    "Think Python: An Introduction to Software Design\n",
    "Allen B. Downey\n",
    "\n",
    "WARNING: this program contains a NASTY bug.  I put\n",
    "it there on purpose as a debugging exercise, but\n",
    "you DO NOT want to emulate this example!\n",
    "\n",
    "\"\"\"\n",
    "\n",
    "class Kangaroo(object):\n",
    "    \"\"\"a Kangaroo is a marsupial\"\"\"\n",
    "    \n",
    "    def __init__(self, contents=None):\n",
    "        \"\"\"initialize the pouch contents; the default value is\n",
    "        an empty list\"\"\"\n",
    "        if contents == None:\n",
    "            self.pouch_contents = []\n",
    "        else:\n",
    "            self.pouch_contents = contents\n",
    "\n",
    "    def __str__(self):\n",
    "        \"\"\"return a string representaion of this Kangaroo and\n",
    "        the contents of the pouch, with one item per line\"\"\"\n",
    "        t = [ object.__str__(self) + ' with pouch contents:' ]\n",
    "        for obj in self.pouch_contents:\n",
    "            s = '    ' + object.__str__(obj)\n",
    "            t.append(s)\n",
    "        return '\\n'.join(t)\n",
    "\n",
    "    def put_in_pouch(self, item):\n",
    "        \"\"\"add a new item to the pouch contents\"\"\"\n",
    "        self.pouch_contents.append(item)\n",
    "\n",
    "kanga = Kangaroo()\n",
    "roo = Kangaroo()\n",
    "kanga.put_in_pouch('wallet')\n",
    "kanga.put_in_pouch('car keys')\n",
    "kanga.put_in_pouch(roo)\n",
    "\n",
    "print kanga.pouch_contents\n",
    "\n",
    "# If you run this program as is, it seems to work.\n",
    "# To see the problem, trying printing roo."
   ]
  },
  {
   "cell_type": "markdown",
   "metadata": {
    "is_question": true,
    "problem": "Time spent"
   },
   "source": [
    "## Quick poll\n",
    "About how long did you spend working on this Reading Journal?"
   ]
  },
  {
   "cell_type": "markdown",
   "metadata": {
    "poll_response": true,
    "solution": "Time spent"
   },
   "source": [
    " 1:15 ish"
   ]
  },
  {
   "cell_type": "markdown",
   "metadata": {
    "is_question": true,
    "problem": "Feedback"
   },
   "source": [
    "## Reading Journal feedback\n",
    "\n",
    "Have any comments on this Reading Journal? Feel free to leave them below and we'll read them when you submit your journal entry. This could include suggestions to improve the exercises, topics you'd like to see covered in class next time, or other feedback.\n",
    "\n",
    "If you have Python questions or run into problems while completing the reading, you should post them to Piazza instead so you can get a quick response before your journal is submitted."
   ]
  },
  {
   "cell_type": "markdown",
   "metadata": {
    "feedback_response": true,
    "solution": "Feedback"
   },
   "source": [
    " "
   ]
  }
 ],
 "metadata": {
  "celltoolbar": "Edit Metadata",
  "kernelspec": {
   "display_name": "Python 2",
   "language": "python",
   "name": "python2"
  },
  "language_info": {
   "codemirror_mode": {
    "name": "ipython",
    "version": 2
   },
   "file_extension": ".py",
   "mimetype": "text/x-python",
   "name": "python",
   "nbconvert_exporter": "python",
   "pygments_lexer": "ipython2",
   "version": "2.7.11"
  }
 },
 "nbformat": 4,
 "nbformat_minor": 0
}
