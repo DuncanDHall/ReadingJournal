{
 "cells": [
  {
   "cell_type": "markdown",
   "metadata": {},
   "source": [
    "# Day 1 Reading Journal\n",
    "\n",
    "Hi everyone.  These are the exercises for the first set of readings from ThinkPython.  While this journal consists of several required exercises, it is meant to encourage active reading more generally.  You should use this journal to take detailed notes, catalog questions, and explore the content from ThinkPython deeply.\n",
    "\n",
    "For more information on using the Jupyter notebook, check out the documentation [here](http://nbviewer.jupyter.org/github/jupyter/notebook/blob/master/docs/source/examples/Notebook/Examples%20and%20Tutorials%20Index.ipynb).  Additionally, in order to write text in this document, you will be making use of markdown cells. A handy cheatsheet for markdown is available [here](https://github.com/adam-p/markdown-here/wiki/Markdown-Cheatsheet)."
   ]
  },
  {
   "cell_type": "markdown",
   "metadata": {},
   "source": [
    "# Chapter 1\n",
    "\n",
    "#### 1.1\n",
    "- \"high-level\" languages must be processed more than their \"low-level\" counterparts, causing them to sometimes run more slowly. However, they are much easier to program in and are also more readable.\n",
    "- high-level code can be run by an **interpreter** which translates and executes one line at a time, or by an **executor** after being compiled into low-level **object code** code by a **compiler**.\n",
    "- python can be written in **interactive mode** with immediate feedback, or **script mode**, where a script is written and executed with one command.\n",
    "\n",
    "\n",
    "Note: the exercise numbers below match up with the reading for ease of cross referencing.\n",
    "\n",
    "#### 1.3\n",
    "- **syntax errors** refer to errors due to broken syntax rules around how code is written\n",
    "- **runtime errors** refer to errors which present themselves when a script is run. These are more difficult to find (from experience), and can arrise from a large variety of issues.\n",
    "- **semantic errors** refer to errors which are not detectable by the computer, even during runtime. These errors do not behave as expected, and can sometimes be misleading because they still compile. \n",
    "\n",
    "#### 1.4\n",
    "- **tokens** are basic elements of a language\n",
    "- syntax rules include restrictions on what tokes can be used in certain settings, and also the necessary structure around certain tokens (e.g. `>>> 3+ =` is not a valid input as the + operator expects numbers on either side).\n",
    "\n",
    "#### 1.5"
   ]
  },
  {
   "cell_type": "code",
   "execution_count": 22,
   "metadata": {
    "collapsed": false
   },
   "outputs": [
    {
     "name": "stdout",
     "output_type": "stream",
     "text": [
      "Hello, World!\n"
     ]
    }
   ],
   "source": [
    "print('Hello, World!')   # () are necessary starting in Python 3"
   ]
  },
  {
   "cell_type": "markdown",
   "metadata": {},
   "source": [
    "### Exercise 3\n",
    "\n",
    "Type `help()` to start the online help utility. Or you can type help('print') to get information about the print statement.  You should type `q` and then hit `enter` in the text box to exit the help utility. \n",
    "\n",
    "Note: this exercise is pretty simple (and there's not much to put in the box)!  We just want to make sure that you have tried out this super-handy feature of Python!"
   ]
  },
  {
   "cell_type": "code",
   "execution_count": null,
   "metadata": {
    "collapsed": false
   },
   "outputs": [],
   "source": [
    "help()\n",
    "help('print')"
   ]
  },
  {
   "cell_type": "markdown",
   "metadata": {},
   "source": [
    "### Exercise 4  \n",
    "\n",
    "Start the Python interpreter and use it as a calculator. Python’s syntax for math operations is almost the same as standard mathematical notation. For example, the symbols +, - and / denote addition, subtraction and division, as you would expect. The symbol for multiplication is *.\n",
    "\n",
    "If you run a 10 kilometer race in 43 minutes 30 seconds, what is your average time per mile? What is your average speed in miles per hour? (Hint: there are 1.61 kilometers in a mile). "
   ]
  },
  {
   "cell_type": "code",
   "execution_count": 1,
   "metadata": {
    "collapsed": false,
    "scrolled": true
   },
   "outputs": [
    {
     "name": "stdout",
     "output_type": "stream",
     "text": [
      "Average time per mile:  4.35 min/km\n",
      "Average speed:  8.551724137931036 mph\n"
     ]
    }
   ],
   "source": [
    "raceLength = 10 # km\n",
    "time = 43 + (30/60)\n",
    "\n",
    "averageTimePerMile = time/raceLength\n",
    "print('Average time per mile: ', averageTimePerMile, 'min/km')\n",
    "\n",
    "milesPerKm = 0.62\n",
    "raceLengthMiles = raceLength * milesPerKm\n",
    "timeHours = time / 60\n",
    "averageSpeedMPH = raceLengthMiles / timeHours\n",
    "print('Average speed: ', averageSpeedMPH, 'mph')"
   ]
  },
  {
   "cell_type": "markdown",
   "metadata": {},
   "source": [
    "# Chapter 2\n",
    "\n",
    "#### 2.1 \n",
    "There are types, I know about them:\n",
    "- strings (str) e.g. 'this is a string'\n",
    "- integers (int) e.g. 1703\n",
    "- floating-point numbers (float) e.g. 13.053\n",
    "\n",
    "#### 2.2 \n",
    "Variables are used to store values and pass them around inside a script or program:"
   ]
  },
  {
   "cell_type": "code",
   "execution_count": 15,
   "metadata": {
    "collapsed": false
   },
   "outputs": [],
   "source": [
    "myString = \"this is a string\"\n",
    "myInt = 20\n",
    "myFloat = 20.78"
   ]
  },
  {
   "cell_type": "markdown",
   "metadata": {},
   "source": [
    "lowerCamelCase is typically used when creating variable names\n",
    "\n",
    "Python 3 has 31 [keywords](http://www.programiz.com/python-programming/keyword-list) which should be avoided when creating variable and function names.\n"
   ]
  },
  {
   "cell_type": "markdown",
   "metadata": {},
   "source": [
    "#### 2.4\n",
    "**Operators**:\n",
    "- +, -, \\*, /, and \\*\\* (for exponentiation instead of ^)\n",
    "- Python 3 does int/int = float, with int//int = int, and float//int = float(int)\n",
    "\n",
    "#### 2.5 \n",
    "- Expressions and staments, statements don't have values, expressions do. Already know and have experienced this.\n",
    "\n",
    "#### 2.6 \n",
    "- scripts output less than interactive mode (you have to be explicit about using print())\n",
    "\n",
    "#### 2.7   Order of Operations\n",
    "- Python uses the normal order of Operations: **PEMDAS**, processes are carried out left to right after this, with the exception of exponentiation, which is right to left.\n",
    "- the '+' operator works on strings to perform concatination\n",
    "- the '\\*' operator works on strings to perform repitition\n",
    "\n",
    "#### 2.9 Comments\n",
    "- comments are written using the '#' symbol (not sure if this counts as a \"token\" as it is not used in the actual program...)\n",
    "- comments are good for providing information to readers not evident in the code (e.g. `v = 5 #velocity in meters/second`)\n",
    "\n",
    "#### 2.10 Debugging\n"
   ]
  },
  {
   "cell_type": "markdown",
   "metadata": {},
   "source": [
    "### Exercise 2  \n",
    "\n",
    "Assume that we execute the following assignment statements:\n",
    "\n",
    "width = 17\n",
    "height = 12.0\n",
    "delimiter = '.'\n",
    "\n",
    "For each of the following expressions, write the value of the expression and the type (of the value of the expression).\n",
    "\n",
    "1. `width/2`\n",
    "2. `width/2.0`\n",
    "3. `height/3`\n",
    "4. `1 + 2 * 5`\n",
    "5. `delimiter * 5`\n",
    "\n",
    "\n",
    "Please use the following markdown cell to provide your answer."
   ]
  },
  {
   "cell_type": "markdown",
   "metadata": {},
   "source": [
    "1. 8.5 type 'float'\n",
    "2. 8.5 type 'float'\n",
    "3. 4.0 type 'float'\n",
    "4. 11 type 'float'\n",
    "5. invalid syntax - * must be flanked by integers and/or floats"
   ]
  },
  {
   "cell_type": "markdown",
   "metadata": {},
   "source": [
    "### Exercise 3  \n",
    "\n",
    "Practice using the Python interpreter as a calculator.  For each of these provide Python code that computes each answer.\n",
    "\n",
    "    \n"
   ]
  },
  {
   "cell_type": "markdown",
   "metadata": {},
   "source": [
    "The volume of a sphere with radius r is 4/3 $\\pi r^3$. What is the volume of a sphere with radius 5? Hint: 392.7 is wrong!"
   ]
  },
  {
   "cell_type": "code",
   "execution_count": 45,
   "metadata": {
    "collapsed": false
   },
   "outputs": [
    {
     "name": "stdout",
     "output_type": "stream",
     "text": [
      "The volume of a sphere with radius 5 is 523.6\n"
     ]
    }
   ],
   "source": [
    "def findVolume(r):\n",
    "    pi = 3.14159265359\n",
    "    return 4/3 * pi * r**3\n",
    "    \n",
    "answer = 'The volume of a sphere with radius 5 is ' + str(round(findVolume(5),2))\n",
    "print(answer)\n",
    "\n",
    "# note: when rounding, 0's are dropped –– round(0.599, 2) is printed 0.6 not 0.60"
   ]
  },
  {
   "cell_type": "markdown",
   "metadata": {},
   "source": [
    "Suppose the cover price of a book is \\$24.95, but bookstores get a 40% discount. Shipping costs \\$3 for the first copy and 75 cents for each additional copy. What is the total wholesale cost for 60 copies?"
   ]
  },
  {
   "cell_type": "code",
   "execution_count": 50,
   "metadata": {
    "collapsed": false
   },
   "outputs": [
    {
     "name": "stdout",
     "output_type": "stream",
     "text": [
      "The total wholesale cost for 60 copies is $646.8\n"
     ]
    }
   ],
   "source": [
    "def findCostForBooks(nCopies):\n",
    "    price = 24.95 # dollars\n",
    "    discount = 0.40 # 40%\n",
    "    shipping = 3.00 + (0.75*nCopies) # dollars\n",
    "    return price * nCopies * discount + shipping # in dollars\n",
    "\n",
    "answer = 'The total wholesale cost for 60 copies is $' + str(round(findCostForBooks(60),2))\n",
    "print(answer)"
   ]
  },
  {
   "cell_type": "markdown",
   "metadata": {},
   "source": [
    "If I leave my house at 6:52 am and run 1 mile at an easy pace (8:15 per mile), then 3 miles at tempo (7:12 per mile) and 1 mile at easy pace again, what time do I get home for breakfast? "
   ]
  },
  {
   "cell_type": "code",
   "execution_count": 105,
   "metadata": {
    "collapsed": false
   },
   "outputs": [
    {
     "name": "stdout",
     "output_type": "stream",
     "text": [
      "07:30:06 am assuming a running path which is a perfect loop for this pattern.\n"
     ]
    }
   ],
   "source": [
    "from datetime import datetime, timedelta\n",
    "startTimeStr = '6:52:00'\n",
    "startTime = datetime.strptime(startTimeStr, \"%I:%M:%S\")\n",
    "\n",
    "easyPaceMile = timedelta(minutes=8,seconds=15)\n",
    "tempoPaceMile = timedelta(minutes=7,seconds=12)\n",
    "\n",
    "endTime = startTime + easyPaceMile + (3*tempoPaceMile) + easyPaceMile\n",
    "formattedEndTime = endTime.time()\n",
    "\n",
    "print(str(formattedEndTime) + \" am assuming a running path which is a perfect loop for this pattern.\")"
   ]
  },
  {
   "cell_type": "markdown",
   "metadata": {},
   "source": [
    "# Chapter 3: Functions\n",
    "\n",
    "#### 3.1 Function calls\n",
    "- functions are squences of statements which are defined once and can be called later multiple times\n",
    "- they can have input parameters also called **arguments** which are used in the body of the function\n",
    "- they can also have an output or result called a **return value**\n",
    "\n",
    "#### 3.2 Type conversion functions\n",
    "- Python has built in functions, including ones to convert a value of one type into a value of another:"
   ]
  },
  {
   "cell_type": "code",
   "execution_count": 121,
   "metadata": {
    "collapsed": false,
    "scrolled": true
   },
   "outputs": [
    {
     "name": "stdout",
     "output_type": "stream",
     "text": [
      "3\n",
      "-3\n",
      "3.05\n",
      "400 <-- this number is a string because it is able to be concatinated with this string.\n"
     ]
    }
   ],
   "source": [
    "print(int(3.999))\n",
    "print(int(-3.999))\n",
    "print(float('3.05'))\n",
    "# print(int('three')) <-- doesn't work\n",
    "print(str('400' + ' <-- this number is a string because it is able to be concatinated with this string.'))"
   ]
  },
  {
   "cell_type": "markdown",
   "metadata": {},
   "source": [
    "#### 3.3 Math functions\n",
    "- a **module** is a package of related supplemental functions\n",
    "- python has a module called \"math\" with many familiar mathematical functions:"
   ]
  },
  {
   "cell_type": "code",
   "execution_count": 140,
   "metadata": {
    "collapsed": false,
    "scrolled": true
   },
   "outputs": [
    {
     "name": "stdout",
     "output_type": "stream",
     "text": [
      "<module 'math' from '/Library/Frameworks/Python.framework/Versions/3.5/lib/python3.5/lib-dynload/math.cpython-35m-darwin.so'>\n",
      "0.6989700043360189\n",
      "1.0\n"
     ]
    }
   ],
   "source": [
    "import math\n",
    "print(math)\n",
    "print(math.log10(5)) # this is called dot notation, and is used to access functions within modules (like in the datetimemodule above)\n",
    "print(math.sin(math.pi/2)) # includes support for pi accurate to 15 digits\n"
   ]
  },
  {
   "cell_type": "markdown",
   "metadata": {},
   "source": [
    "#### 3.4 Composition\n",
    "- function composition is a thing, been using this already, see ln 4 in the previous code cell"
   ]
  },
  {
   "cell_type": "markdown",
   "metadata": {},
   "source": [
    "#### 3.5 Adding new functions\n",
    "- functions can be defined to fit an infinity of uses:"
   ]
  },
  {
   "cell_type": "code",
   "execution_count": 152,
   "metadata": {
    "collapsed": false
   },
   "outputs": [
    {
     "name": "stdout",
     "output_type": "stream",
     "text": [
      "I'm a lumberjack, and I'm okay\n",
      "I sleep all night and I work all day.\n"
     ]
    }
   ],
   "source": [
    "def printLyrics():\n",
    "    print(\"I'm a lumberjack, and I'm okay\")\n",
    "    print(\"I sleep all night and I work all day.\")\n",
    "    \n",
    "printLyrics()   # this here is a 'function call'"
   ]
  },
  {
   "cell_type": "markdown",
   "metadata": {},
   "source": [
    "- input arguments are put within the () in the function definition and call\n",
    "- single quotes and double quotes are the same thing––having the choice makes it easier to use quotes in strings\n",
    "- defining a function creates a variable with the same name and the value type 'function'\n",
    "- functions can also be nested:"
   ]
  },
  {
   "cell_type": "code",
   "execution_count": 155,
   "metadata": {
    "collapsed": false
   },
   "outputs": [
    {
     "name": "stdout",
     "output_type": "stream",
     "text": [
      "4\n",
      "8\n"
     ]
    }
   ],
   "source": [
    "def addOne(n):\n",
    "    return n + 1\n",
    "\n",
    "def addOneThenDouble(n):\n",
    "    return addOne(n) * 2\n",
    "\n",
    "print(addOne(3))\n",
    "print(addOneThenDouble(3))"
   ]
  },
  {
   "cell_type": "markdown",
   "metadata": {},
   "source": [
    "#### 3.6 Definitions and uses\n",
    "- function definition generates no output\n",
    "- function must be defined before called"
   ]
  },
  {
   "cell_type": "markdown",
   "metadata": {},
   "source": [
    "#### 3.7 Flow of execution\n",
    "- the **flow of executions** is the order in which lines of code are executed\n",
    "- always begins with the first line of hte program, and progresses downwards\n",
    "- function calls are like detours in the FoE––the flow jumps to th body of the function and executes it, then returns to where it left off\n",
    "- nested functions can make picturing the FoE a learned skill\n",
    "- program terminates after executing it's last line of code"
   ]
  },
  {
   "cell_type": "markdown",
   "metadata": {},
   "source": [
    "#### 3.8 Parameters and arguments\n",
    "- arguments are assigned to variables called parameters once they enter the function.\n",
    "- examples of argument passing and parameter use can be found in exercises above and below"
   ]
  },
  {
   "cell_type": "markdown",
   "metadata": {},
   "source": [
    "#### 3.9 Variable and parameters are local\n",
    "- variables created inside of functions are **local**, meaning they cannot be accessed outside of that function\n",
    "- this is tied to the idea of \"scope\", likely more on that coming up..."
   ]
  },
  {
   "cell_type": "markdown",
   "metadata": {},
   "source": [
    "#### 3.10 Stack diagrams\n",
    "- a **stack diagram** is a way to keep track of what values different variables and parameters have in an execution\n",
    "- tracebacks are cool. They inform what functions were in progress at the time of the error, and what the offending line was"
   ]
  },
  {
   "cell_type": "markdown",
   "metadata": {},
   "source": [
    "#### Fruitful functions and void functions\n",
    "- some functions (like all of the math functions) yield a result, and thus we will call them **fruitful functions**\n",
    "- other functions do not actually return a value, but serve other purposes, and we will call them **void functions**\n",
    "- if you try to catch a return from a void function..."
   ]
  },
  {
   "cell_type": "code",
   "execution_count": 160,
   "metadata": {
    "collapsed": false
   },
   "outputs": [
    {
     "name": "stdout",
     "output_type": "stream",
     "text": [
      "some stuff: things\n",
      "None\n",
      "<class 'NoneType'>\n"
     ]
    }
   ],
   "source": [
    "def myFunction(stuff):\n",
    "    print('some stuff: ' + stuff)\n",
    "\n",
    "returnValue = myFunction('things')\n",
    "print(returnValue)\n",
    "print(type(returnValue))"
   ]
  },
  {
   "cell_type": "markdown",
   "metadata": {},
   "source": [
    "#### 3.12 Why functions?\n",
    "- defining a function allows you to name a block of code, making it more readable\n",
    "- eliminates repetitive code, adheering to the DRY principle (Don't Repeat Yourself)\n",
    "- dividing a program into functions allows segmented debugging\n",
    "- functions can be reused in other programs without adapting parameter/variable/method names"
   ]
  },
  {
   "cell_type": "markdown",
   "metadata": {},
   "source": [
    "#### 3.13 Importing with `from`"
   ]
  },
  {
   "cell_type": "code",
   "execution_count": 162,
   "metadata": {
    "collapsed": false
   },
   "outputs": [
    {
     "name": "stdout",
     "output_type": "stream",
     "text": [
      "3.141592653589793\n"
     ]
    }
   ],
   "source": [
    "import math\n",
    "print(math.pi) # to access pi, we must use dot notation"
   ]
  },
  {
   "cell_type": "code",
   "execution_count": 164,
   "metadata": {
    "collapsed": false
   },
   "outputs": [
    {
     "name": "stdout",
     "output_type": "stream",
     "text": [
      "3.141592653589793\n"
     ]
    }
   ],
   "source": [
    "from math import pi\n",
    "print(pi) # with from...import, we can access pi directly"
   ]
  },
  {
   "cell_type": "markdown",
   "metadata": {},
   "source": [
    "- you can also import all with `from [module] import *`\n",
    "- the one disadvantage to doing this is that one might run into naming conflicts between multiple modules"
   ]
  },
  {
   "cell_type": "markdown",
   "metadata": {},
   "source": [
    "#### 3.14 Debugging\n",
    "- sometimes (especially in dumb text editors) spaces/tabs can be a source of bugs\n",
    "- save your program before running––you might not be running the code you think you are"
   ]
  },
  {
   "cell_type": "markdown",
   "metadata": {},
   "source": [
    "### Exercise 3\n",
    "\n",
    "Python provides a built-in function called len that returns the length of a string, so the value of len('allen') is 5.\n",
    "Write a function named right_justify that takes a string named s as a parameter and prints the string with enough leading spaces so that the last letter of the string is in column 70 of the display.\n",
    "\n",
    "```\n",
    ">>> right_justify('allen')\n",
    "                                                                 allen```"
   ]
  },
  {
   "cell_type": "code",
   "execution_count": 199,
   "metadata": {
    "collapsed": false
   },
   "outputs": [
    {
     "name": "stdout",
     "output_type": "stream",
     "text": [
      "                                                                 allen\n",
      "                                            Duncan\n"
     ]
    }
   ],
   "source": [
    "def right_justify(s, columnWidth='default'): # example of default values provided for parameters\n",
    "    if columnWidth == 'default':\n",
    "        columnWidth = 70\n",
    "    length = len(s)\n",
    "    justifiedS = (\" \" * (columnWidth-length)) + s\n",
    "    print(justifiedS)\n",
    "\n",
    "right_justify('allen')\n",
    "right_justify('Duncan',50)"
   ]
  },
  {
   "cell_type": "markdown",
   "metadata": {},
   "source": [
    "### Exercise 5\n",
    "\n",
    "This exercise can be done using only the statements and other features we have learned so far.\n",
    "\n",
    "(a) Write a function that draws a grid like the following:\n",
    "```\n",
    "+ - - - - + - - - - +\n",
    "|         |         |\n",
    "|         |         |\n",
    "|         |         |\n",
    "|         |         |\n",
    "+ - - - - + - - - - +\n",
    "|         |         |\n",
    "|         |         |\n",
    "|         |         |\n",
    "|         |         |\n",
    "+ - - - - + - - - - +\n",
    "```\n",
    "**Hint:** to print more than one value on a line, you can print a comma-separated sequence:\n",
    "print '+', '-'\n",
    "If the sequence ends with a comma, Python leaves the line unfinished, so the value printed next appears on the same line.\n",
    "print '+', \n",
    "print '-'\n",
    "The output of these statements is '+ -'.\n",
    "A print statement all by itself ends the current line and goes to the next line."
   ]
  },
  {
   "cell_type": "code",
   "execution_count": 201,
   "metadata": {
    "collapsed": false
   },
   "outputs": [
    {
     "name": "stdout",
     "output_type": "stream",
     "text": [
      "+ - - - - + - - - - +\n",
      "|         |         |\n",
      "|         |         |\n",
      "|         |         |\n",
      "|         |         |\n",
      "+ - - - - + - - - - +\n",
      "|         |         |\n",
      "|         |         |\n",
      "|         |         |\n",
      "|         |         |\n",
      "+ - - - - + - - - - +\n",
      "\n"
     ]
    }
   ],
   "source": [
    "def drawThisParticularGrid():\n",
    "    lineType1 = 2*('+' + (4*' -') + ' ') + '+\\n'\n",
    "    lineType2 = 2*('|'+9*' ')+'|\\n'\n",
    "    drawing = 2*(lineType1 + 4*lineType2) + lineType1\n",
    "    print(drawing)\n",
    "\n",
    "drawThisParticularGrid()"
   ]
  },
  {
   "cell_type": "markdown",
   "metadata": {},
   "source": [
    "(b) Write a function that draws a similar grid with four rows and four columns."
   ]
  },
  {
   "cell_type": "code",
   "execution_count": 249,
   "metadata": {
    "collapsed": false
   },
   "outputs": [
    {
     "name": "stdout",
     "output_type": "stream",
     "text": [
      "+ - - + - - + - - + - - +\n",
      "|     |     |     |     |\n",
      "|     |     |     |     |\n",
      "+ - - + - - + - - + - - +\n",
      "|     |     |     |     |\n",
      "|     |     |     |     |\n",
      "+ - - + - - + - - + - - +\n",
      "|     |     |     |     |\n",
      "|     |     |     |     |\n",
      "+ - - + - - + - - + - - +\n",
      "|     |     |     |     |\n",
      "|     |     |     |     |\n",
      "+ - - + - - + - - + - - +\n",
      "\n"
     ]
    }
   ],
   "source": [
    "def drawAnyGrid(rows,columns,boxSize=4):\n",
    "    lineType1 = columns*('+ ' + (boxSize*'- ')) + '+\\n'\n",
    "    lineType2 = columns*('| '+(boxSize*2)*' ')+'|\\n'\n",
    "    drawing = rows*(lineType1 + boxSize*lineType2) + lineType1\n",
    "    print(drawing)\n",
    "\n",
    "drawAnyGrid(4,4,2)\n",
    "\n",
    "# figured I'd learn something new about Python's default values while I was at it"
   ]
  },
  {
   "cell_type": "markdown",
   "metadata": {},
   "source": [
    "## Chapter 5.1 - 5.7"
   ]
  },
  {
   "cell_type": "markdown",
   "metadata": {},
   "source": [
    "#### 5.1 Modulus operator\n",
    "- the modulus operator (`%`) yields the remainder when the first operand is divided by the second\n",
    "- used to check divisibility and also extract the rightmost digits from an integer or float (by dividing by powers of 10)"
   ]
  },
  {
   "cell_type": "code",
   "execution_count": 210,
   "metadata": {
    "collapsed": false
   },
   "outputs": [
    {
     "data": {
      "text/plain": [
       "0.012999999999999262"
      ]
     },
     "execution_count": 210,
     "metadata": {},
     "output_type": "execute_result"
    }
   ],
   "source": [
    "11.513%0.1"
   ]
  },
  {
   "cell_type": "markdown",
   "metadata": {},
   "source": [
    "#### 5.2 Boolean expressions \n",
    "- boolean expressions are expressions that are either true or false\n",
    "- `True` and `False` are special values of type `bool`\n",
    "- boolean expression operators are:\n",
    "    - `x == y`\n",
    "    - `x != y`\n",
    "    - `x > y`\n",
    "    - `x < y`\n",
    "    - `x >= y`\n",
    "    - `x <= y`"
   ]
  },
  {
   "cell_type": "markdown",
   "metadata": {},
   "source": [
    "#### 5.3 Logical operators\n",
    "- there are three **logical operators**: `and`, `or`, and `not`\n",
    "- they can be used to join multiple boolean expressions together\n",
    "- **Note:** any non-zero number is interpreted as True when used as an operand in a logic operator"
   ]
  },
  {
   "cell_type": "markdown",
   "metadata": {},
   "source": [
    "#### 5.4 Conditional execution\n",
    "- simplest form is the `if` statement\n",
    "- performs as expected; followed by a boolean statement, then a : which stands in as 'then'. The indented block of code beginning on the next line is the body of the `if` statement, and is only run if the boolean is evaluated to be `True`\n",
    "- statements like this with a header and indented body are called **compound statements**\n",
    "- compound statements must have at least one line of code in their body, and `pass` can be used if a placeholder is needed"
   ]
  },
  {
   "cell_type": "markdown",
   "metadata": {},
   "source": [
    "#### 5.5 Alternative execution\n",
    "- alternative execution provides an alternative block of code to be executed when the `if` statement is evaluated `False`\n",
    "- these alternatives are sometimes called **branches**"
   ]
  },
  {
   "cell_type": "code",
   "execution_count": 216,
   "metadata": {
    "collapsed": false
   },
   "outputs": [
    {
     "name": "stdout",
     "output_type": "stream",
     "text": [
      "x is Not True\n"
     ]
    }
   ],
   "source": [
    "x = None\n",
    "if x:\n",
    "    print('x is True')\n",
    "else:\n",
    "    print('x is Not True')"
   ]
  },
  {
   "cell_type": "markdown",
   "metadata": {},
   "source": [
    "#### 5.6 Chained conditionals\n",
    "- like this:"
   ]
  },
  {
   "cell_type": "code",
   "execution_count": 231,
   "metadata": {
    "collapsed": false
   },
   "outputs": [
    {
     "name": "stdout",
     "output_type": "stream",
     "text": [
      "x is greater than 3\n"
     ]
    }
   ],
   "source": [
    "x = 4\n",
    "if x > 3:\n",
    "    print('x is greater than 3')\n",
    "elif x < 3:\n",
    "    print('x is less than 3')\n",
    "elif x == 3:\n",
    "    print('x is equal to 3')\n",
    "else:\n",
    "    print('x is very weird...')     # this never happens because python doesn't like comparing other types to integers"
   ]
  },
  {
   "cell_type": "markdown",
   "metadata": {},
   "source": [
    "#### 5.7 Nested conditions\n",
    "- also a thing, can often be simplified by the use of logicals"
   ]
  },
  {
   "cell_type": "markdown",
   "metadata": {},
   "source": [
    "#### 5.8 Recursion\n",
    "- it is legal for a function to call itself:"
   ]
  },
  {
   "cell_type": "code",
   "execution_count": 240,
   "metadata": {
    "collapsed": false
   },
   "outputs": [
    {
     "name": "stdout",
     "output_type": "stream",
     "text": [
      "3\n",
      "2\n",
      "1\n",
      "Blastoff!\n",
      "3\n",
      "2\n",
      "1\n",
      "Blastoff!\n"
     ]
    }
   ],
   "source": [
    "def countDown(n):\n",
    "    if n <= 0:\n",
    "        print('Blastoff!')\n",
    "    else:\n",
    "        print(n)\n",
    "        countDown(n-1)\n",
    "\n",
    "def altCountDown(n):\n",
    "    while n > 0:\n",
    "        print(n)\n",
    "        n -= 1\n",
    "    print('Blastoff!')\n",
    "    \n",
    "countDown(3)\n",
    "altCountDown(3)"
   ]
  },
  {
   "cell_type": "markdown",
   "metadata": {},
   "source": [
    "#### 5.9 Stack diagrams for recursive functions\n",
    "- they still exist, you make multiple boxes for each instance of the function"
   ]
  },
  {
   "cell_type": "markdown",
   "metadata": {},
   "source": [
    "#### 5.10 Infinite recursion\n",
    "- best avoided. As an example:\n",
    "```Python\n",
    "def recurse():\n",
    "    recurse()\n",
    "```"
   ]
  },
  {
   "cell_type": "markdown",
   "metadata": {},
   "source": [
    "#### 5.11 Keyboard input\n",
    "- programs can require keyboard input like so:"
   ]
  },
  {
   "cell_type": "code",
   "execution_count": 246,
   "metadata": {
    "collapsed": false,
    "scrolled": true
   },
   "outputs": [
    {
     "name": "stdout",
     "output_type": "stream",
     "text": [
      "say something here: this works\n",
      "this works!!!\n"
     ]
    }
   ],
   "source": [
    "text = input('say something here: ')\n",
    "print(text + '!!!')"
   ]
  },
  {
   "cell_type": "markdown",
   "metadata": {},
   "source": [
    "#### 5.12 Debugging\n",
    "- lots of times errors will come up pointing to lines of code which don't actually have errors, and the source is further up in the flow of execution"
   ]
  },
  {
   "cell_type": "markdown",
   "metadata": {},
   "source": [
    "### Exercise 3  \n",
    "\n",
    "Fermat’s Last Theorem says that there are no positive integers a, b, and c such that $a^n + b^n = c^n$ for any values of n greater than 2.\n",
    "\n",
    "(a) Write a function named `check_fermat` that takes four parameters—a, b, c and n—and that checks to see if Fermat’s theorem holds. If n is greater than 2 and it turns out to be true that\n",
    "$a^n + b^n = c^n$ the program should print, \"Holy smokes, Fermat was wrong!\" Otherwise the program should print, \"No, that doesn’t work.\""
   ]
  },
  {
   "cell_type": "code",
   "execution_count": 272,
   "metadata": {
    "collapsed": false
   },
   "outputs": [
    {
     "name": "stdout",
     "output_type": "stream",
     "text": [
      "No, that doesn’t work.\n",
      "64 + 64 != 125\n"
     ]
    }
   ],
   "source": [
    "def check_fermat(a,b,c,n):\n",
    "    if a**n + b**n == c**n and n > 2:\n",
    "        print('Holy smokes, Fermat was wrong!')\n",
    "    else:\n",
    "        print('No, that doesn’t work.')\n",
    "        print(str(a**n) + ' + ' + str(b**n) + ' != ' + str(c**n))\n",
    "\n",
    "check_fermat(4,4,5,3)"
   ]
  },
  {
   "cell_type": "markdown",
   "metadata": {},
   "source": [
    "(b) Write a function that prompts the user to input values for a, b, c and n, converts them to integers, and uses check_fermat to check whether they violate Fermat’s theorem."
   ]
  },
  {
   "cell_type": "code",
   "execution_count": 283,
   "metadata": {
    "collapsed": false
   },
   "outputs": [
    {
     "name": "stdout",
     "output_type": "stream",
     "text": [
      "let's test Fermat's Theorem...\n",
      "input an integer value for a: 3\n",
      "input an integer value for b: 3\n",
      "input an integer value for c: 3\n",
      "input an integer value greater than 2 for n: 3\n",
      "No, that doesn’t work.\n",
      "27 + 27 != 27\n"
     ]
    }
   ],
   "source": [
    "def fermatCheckInput():\n",
    "    print(\"let's test Fermat's Theorem...\")\n",
    "    a = int(input(\"input an integer value for a: \"))\n",
    "    b = int(input(\"input an integer value for b: \"))\n",
    "    c = int(input(\"input an integer value for c: \"))\n",
    "    n = int(input(\"input an integer value greater than 2 for n: \"))\n",
    "    check_fermat(a,b,c,n)\n",
    "\n",
    "fermatCheckInput()"
   ]
  },
  {
   "cell_type": "markdown",
   "metadata": {},
   "source": [
    "### Exercise 4  \n",
    "\n",
    "If you are given three sticks, you may or may not be able to arrange them in a triangle. For example, if one of the sticks is 12 inches long and the other two are one inch long, it is clear that you will not be able to get the short sticks to meet in the middle. For any three lengths, there is a simple test to see if it is possible to form a triangle:\n",
    "> If any of the three lengths is greater than the sum of the other two, then you cannot form a triangle. Otherwise, you can. (If the sum of two lengths equals the third, they form what is called a “degenerate” triangle.)\n",
    "\n",
    "(a) Write a function named `is_triangle` that takes three integers as arguments, and that prints either \"Yes\" or \"No,\" depending on whether you can or cannot form a triangle from sticks with the given lengths."
   ]
  },
  {
   "cell_type": "code",
   "execution_count": 287,
   "metadata": {
    "collapsed": false
   },
   "outputs": [
    {
     "name": "stdout",
     "output_type": "stream",
     "text": [
      "Yes\n"
     ]
    }
   ],
   "source": [
    "def is_triangle(a,b,c):\n",
    "    [a,b,c] = sorted([a,b,c])\n",
    "    if a + b > c : \n",
    "        print('Yes')\n",
    "    else:\n",
    "        print('No')\n",
    "        \n",
    "is_triangle(4,2,5)"
   ]
  },
  {
   "cell_type": "markdown",
   "metadata": {},
   "source": [
    "(b) Write a function that prompts the user to input three stick lengths, converts them to integers, and uses is_triangle to check whether sticks with the given lengths can form a triangle."
   ]
  },
  {
   "cell_type": "code",
   "execution_count": 290,
   "metadata": {
    "collapsed": false
   },
   "outputs": [
    {
     "name": "stdout",
     "output_type": "stream",
     "text": [
      "I'll tell you if you input valid lengths for the sides of a triangle\n",
      "input a side length: 1\n",
      "and another...2\n",
      "one more...3\n",
      "and the answer is...\n",
      "No\n"
     ]
    }
   ],
   "source": [
    "def triangleCheckPrompt():\n",
    "    print(\"I'll tell you if you input valid lengths for the sides of a triangle\")\n",
    "    a = int(input(\"input a side length: \"))\n",
    "    b = int(input(\"and another...\"))\n",
    "    c = int(input(\"one more...\"))\n",
    "    print('and the answer is...')\n",
    "    is_triangle(a,b,c)\n",
    "triangleCheckPrompt()"
   ]
  },
  {
   "cell_type": "markdown",
   "metadata": {},
   "source": [
    "## Notes for the Instructors\n",
    "\n",
    "Please use the space below to write comments to help us plan the next class session.  For instance, if you want to see us go over an example of a particular type of problem, you can indicate that here.\n",
    "\n",
    "Please remember that the best way to get quick feedback from the instructors as well as your peers, is to use Piazza.  However, consider using this channel if it doesn't make sense to post your note to Piazza."
   ]
  },
  {
   "cell_type": "markdown",
   "metadata": {},
   "source": []
  }
 ],
 "metadata": {
  "kernelspec": {
   "display_name": "Python 3",
   "language": "python",
   "name": "python3"
  },
  "language_info": {
   "codemirror_mode": {
    "name": "ipython",
    "version": 3
   },
   "file_extension": ".py",
   "mimetype": "text/x-python",
   "name": "python",
   "nbconvert_exporter": "python",
   "pygments_lexer": "ipython3",
   "version": "3.5.1"
  }
 },
 "nbformat": 4,
 "nbformat_minor": 0
}
