{
 "cells": [
  {
   "cell_type": "markdown",
   "metadata": {},
   "source": [
    "# Day 2 Reading Journal\n",
    "\n",
    "This journal includes several required exercises, but it is meant to encourage active reading more generally.  You should use the journal to take detailed notes, catalog questions, and explore the content from Think Python deeply.\n",
    "\n",
    "Reading: Think Python Chapter 6.1-6.4, 7\n",
    "\n",
    "**Due: Thursday, January 28 at 12 noon**\n",
    "\n"
   ]
  },
  {
   "cell_type": "markdown",
   "metadata": {},
   "source": [
    "## [Chapter 6.1-6.4](http://www.greenteapress.com/thinkpython/html/thinkpython007.html)\n",
    "\n",
    "Note: the exercise numbers below match up with the reading for ease of cross referencing.\n"
   ]
  },
  {
   "cell_type": "markdown",
   "metadata": {},
   "source": [
    "Functions can have a return *expression*:\n",
    "```python\n",
    "import math\n",
    "def area(radius):\n",
    "    return math.pi * radius**2\n",
    "area(3)\n",
    "```\n",
    "\n",
    "Generally it's good to make sure that a *fruitful function* will always bear fruit as it were––one should make sure that every possible branch of a program contains a return statement.\n",
    "\n",
    "**Incremental development** is good. Start by defining the inputs and output type:\n",
    "```Python\n",
    "def distance(x1, y1, x2, y2):\n",
    "    return 0.0\n",
    "```\n",
    "Then print statements can be used as variables are defined for each stage of computation to affirm anticipated behavior at every step along the way. The key idea is that **small incremental changes** are easier to bug fix. \n",
    "\n",
    "Composition of functions is a thing... again.\n",
    "\n",
    "Functions can return booleans, can often use the result of `==` or inequality operator instead of manually returning `True` or `False`.\n",
    "\n",
    "Useful recursion in the definition of factiorial: \n",
    "\n",
    "    0! = 1\n",
    "    n! = n(n−1)!\n",
    "\n",
    "The implementation of this is pretty cool, I need to look out for chances to use function recursion instead of loops...\n",
    "```Python\n",
    "def factorial(n):\n",
    "    if n == 0:\n",
    "        return 1\n",
    "    else:\n",
    "        recurse = factorial(n-1)\n",
    "        result = n * recurse\n",
    "        return result\n",
    "```\n",
    "Leaps of faith must sometimes be taken (cautiously) when following the flow of execution, especially with recursive functions. This refers to when you *assume* a functions does what you think it should."
   ]
  },
  {
   "cell_type": "markdown",
   "metadata": {},
   "source": [
    "**Quick check:** What is a _fruitful function_? \n",
    "\n",
    "*A \"fruitful function\" is a function which *returns* a value"
   ]
  },
  {
   "cell_type": "markdown",
   "metadata": {},
   "source": [
    " "
   ]
  },
  {
   "cell_type": "markdown",
   "metadata": {},
   "source": [
    "### Exercise 1  \n",
    "Write a `compare` function that returns `1` if `x > y`, `0` if `x == y`, and `-1` if `x < y`."
   ]
  },
  {
   "cell_type": "code",
   "execution_count": 43,
   "metadata": {
    "collapsed": false
   },
   "outputs": [
    {
     "name": "stdout",
     "output_type": "stream",
     "text": [
      "1 0 -1\n",
      "1\n",
      "-1\n",
      "1\n"
     ]
    }
   ],
   "source": [
    "def compare(x, y):\n",
    "    if x > y:\n",
    "        return 1\n",
    "    if x == y:\n",
    "        return 0\n",
    "    if x < y:\n",
    "        return -1\n",
    "\n",
    "print(compare(2,1), compare(1,1), compare(1,2))\n",
    "print(compare((2,1,1),(1,1,2))) # what the heck is happening here?\n",
    "print(compare((2,1,1),(2,1,2)))\n",
    "print(compare((2,1,1),(2,0,2))) # seems possibly like the program is comparing the first index, then on to the next if they're equal?"
   ]
  },
  {
   "cell_type": "markdown",
   "metadata": {},
   "source": [
    "**Quick check:** Modify the `absolute_value` function so that it returns the correct result for all integer inputs."
   ]
  },
  {
   "cell_type": "code",
   "execution_count": 48,
   "metadata": {
    "collapsed": false
   },
   "outputs": [
    {
     "name": "stdout",
     "output_type": "stream",
     "text": [
      "2\n",
      "1\n",
      "0\n",
      "1\n",
      "2\n"
     ]
    }
   ],
   "source": [
    "def absolute_value(x):\n",
    "    if x < 0:\n",
    "        return -x\n",
    "    if x >= 0:\n",
    "        return x\n",
    "\n",
    "for i in range (-2,3):\n",
    "    print(absolute_value(i))"
   ]
  },
  {
   "cell_type": "markdown",
   "metadata": {},
   "source": [
    "### Exercise 2  \n",
    "Use incremental development to write a function called `hypotenuse` that returns the length of the hypotenuse of a right triangle given the lengths of the two legs as arguments. Record each stage of the development process as you go, using as many cells as you need."
   ]
  },
  {
   "cell_type": "code",
   "execution_count": 54,
   "metadata": {
    "collapsed": false
   },
   "outputs": [
    {
     "data": {
      "text/plain": [
       "1.0"
      ]
     },
     "execution_count": 54,
     "metadata": {},
     "output_type": "execute_result"
    }
   ],
   "source": [
    "def hypotenuse():\n",
    "    return 1.0\n",
    "\n",
    "hypotenuse()"
   ]
  },
  {
   "cell_type": "code",
   "execution_count": 61,
   "metadata": {
    "collapsed": false
   },
   "outputs": [
    {
     "data": {
      "text/plain": [
       "1.0"
      ]
     },
     "execution_count": 61,
     "metadata": {},
     "output_type": "execute_result"
    }
   ],
   "source": [
    "def hypotenuse(aLeg, bLeg):\n",
    "    cLength = 1.0\n",
    "    return cLength\n",
    "\n",
    "hypotenuse(3,4)"
   ]
  },
  {
   "cell_type": "code",
   "execution_count": 56,
   "metadata": {
    "collapsed": false
   },
   "outputs": [
    {
     "data": {
      "text/plain": [
       "5.0"
      ]
     },
     "execution_count": 56,
     "metadata": {},
     "output_type": "execute_result"
    }
   ],
   "source": [
    "def hypotenuse(aLeg, bLeg):\n",
    "    cLength = (aLeg**2 + bLeg**2)**0.5\n",
    "    return cLength\n",
    "\n",
    "hypotenuse(3,4)"
   ]
  },
  {
   "cell_type": "code",
   "execution_count": 58,
   "metadata": {
    "collapsed": false
   },
   "outputs": [
    {
     "data": {
      "text/plain": [
       "5.0"
      ]
     },
     "execution_count": 58,
     "metadata": {},
     "output_type": "execute_result"
    }
   ],
   "source": [
    "def hypotenuse(aLeg, bLeg):\n",
    "    return (aLeg**2 + bLeg**2)**0.5\n",
    "\n",
    "hypotenuse(3,4)"
   ]
  },
  {
   "cell_type": "markdown",
   "metadata": {},
   "source": [
    "### Exercise 3  \n",
    "Write a function `is_between(x, y, z)` that returns `True` if `x ≤ y ≤ z` or `False` otherwise."
   ]
  },
  {
   "cell_type": "code",
   "execution_count": 71,
   "metadata": {
    "collapsed": false,
    "scrolled": true
   },
   "outputs": [
    {
     "data": {
      "text/plain": [
       "True"
      ]
     },
     "execution_count": 71,
     "metadata": {},
     "output_type": "execute_result"
    }
   ],
   "source": [
    "def is_between(x,y,z):\n",
    "    a = [x,y,z]\n",
    "    b = sorted(a)\n",
    "    if a == b:\n",
    "        return True\n",
    "    return False\n",
    "\n",
    "is_between(2,1,3)"
   ]
  },
  {
   "cell_type": "markdown",
   "metadata": {},
   "source": [
    "## [Chapter 7](http://www.greenteapress.com/thinkpython/html/thinkpython008.html)\n",
    "\n"
   ]
  },
  {
   "cell_type": "markdown",
   "metadata": {},
   "source": [
    "**Quick check:** How do you test for equality in Python?\n",
    "\n",
    "`a == b -> Bool`"
   ]
  },
  {
   "cell_type": "markdown",
   "metadata": {},
   "source": [
    "Assignments after the first to one variable reassign it's value and are legal.\n",
    "\n",
    "An **update** is when an **initialized** variable is reassigned a value which depends on it's previous value:\n",
    "```Python\n",
    "n = 1\n",
    "n = n+1\n",
    "# this is an example of *incrementing*\n",
    "```\n",
    "`while` is a thing, pretty cool loop... experience in ModSim and before. One should make sure that the conditional of the while loop will eventually be evaluated false to avoid infinite looping.\n",
    "\n",
    "`break` can be used to end a loop mid-instance.\n",
    "\n",
    "One use of loops is to implement Newton's method. Put it in a loop and `break` the loop when python evaluates an estimate to be equal to it's previous (because of grainularity).\n",
    "\n",
    "Algorithms do not require intelligence to execute. A lot of those \"tricks\" we learned in math class are algorithms.\n",
    "\n",
    "When debugging it's sometimes helpful to divide the program in half and figure out if the first section is acting correctly, then dividing that or the second half accordingly, and working like this to zero in on the problem code."
   ]
  },
  {
   "cell_type": "markdown",
   "metadata": {},
   "source": [
    "**Challenge:** Prove/disprove the Collatz conjecture :)"
   ]
  },
  {
   "cell_type": "markdown",
   "metadata": {},
   "source": [
    "### Exercise 2  \n",
    "Encapsulate the loop from Section 7.5 in a function called `square_root` that takes `a` as a parameter, chooses a reasonable value of `x`, and returns an estimate of the square root of `a`."
   ]
  },
  {
   "cell_type": "code",
   "execution_count": 85,
   "metadata": {
    "collapsed": false
   },
   "outputs": [
    {
     "name": "stdout",
     "output_type": "stream",
     "text": [
      "1.0\n",
      "1.414213562373095\n",
      "1.7320508075688772\n",
      "2.0\n"
     ]
    }
   ],
   "source": [
    "def square_root(a):\n",
    "    x = a\n",
    "    while True:\n",
    "        y = (x + a / x) / 2\n",
    "        if x == y:\n",
    "            break\n",
    "        x = y\n",
    "    return y\n",
    "\n",
    "for i in range (1,5):\n",
    "    print(square_root(i))"
   ]
  },
  {
   "cell_type": "markdown",
   "metadata": {},
   "source": [
    "### Exercise 3  \n",
    "To test the square root algorithm you developed in Exercise 2, you could compare it with Python's `math.sqrt` function. Write a function named `test_square_root` that prints a table like this:\n",
    "\n",
    "```python\n",
    "1.0 1.0           1.0           0.0\n",
    "2.0 1.41421356237 1.41421356237 2.22044604925e-16\n",
    "3.0 1.73205080757 1.73205080757 0.0\n",
    "4.0 2.0           2.0           0.0\n",
    "5.0 2.2360679775  2.2360679775  0.0\n",
    "6.0 2.44948974278 2.44948974278 0.0\n",
    "7.0 2.64575131106 2.64575131106 0.0\n",
    "8.0 2.82842712475 2.82842712475 4.4408920985e-16\n",
    "9.0 3.0           3.0           0.0\n",
    "```\n",
    "\n",
    "The first column is a number, `a`; the second column is the square root of a computed with the function from Section 7.5; the third column is the square root computed by `math.sqrt`; the fourth column is the absolute value of the difference between the two estimates."
   ]
  },
  {
   "cell_type": "code",
   "execution_count": 177,
   "metadata": {
    "collapsed": false
   },
   "outputs": [
    {
     "name": "stdout",
     "output_type": "stream",
     "text": [
      "1.0 1.0                1.0                0.0                   \n",
      "2.0 1.414213562373095  1.4142135623730951 2.220446049250313e-16 \n",
      "3.0 1.7320508075688772 1.7320508075688772 0.0                   \n",
      "4.0 2.0                2.0                0.0                   \n",
      "5.0 2.23606797749979   2.23606797749979   0.0                   \n",
      "6.0 2.449489742783178  2.449489742783178  0.0                   \n",
      "7.0 2.6457513110645907 2.6457513110645907 0.0                   \n",
      "8.0 2.82842712474619   2.8284271247461903 4.440892098500626e-16 \n",
      "9.0 3.0                3.0                0.0                   \n"
     ]
    }
   ],
   "source": [
    "from math import sqrt\n",
    "\n",
    "def test_square_root():\n",
    "    \n",
    "    ## compute all data\n",
    "    data = []\n",
    "    for s in range (1,10):\n",
    "        num = float(s)\n",
    "        my_root = square_root(s)\n",
    "        math_root = sqrt(s)\n",
    "        error = abs(my_root - math_root)\n",
    "        \n",
    "        data.append([num, my_root, math_root, error])\n",
    "\n",
    "    col_width = max(len(str(entry)) for row in data for entry in row) + 2 # padding\n",
    "    columns = range(0,len(data[1]))\n",
    "    rows = range(0,len(data))\n",
    "    \n",
    "    ## convert data to strings for formatting\n",
    "    for row in rows:\n",
    "        for element in columns:\n",
    "            data[row][element] = str(data[row][element])    \n",
    "    \n",
    "    ## calc each column width\n",
    "    column_width = []\n",
    "    for column in columns:\n",
    "        column_width.append(max(len(data[row][column]) for row in rows)+1)\n",
    "    \n",
    "    ## format table\n",
    "    for row in rows:\n",
    "        for column in columns:\n",
    "            data[row][column] = data[row][column].ljust(column_width[column],\" \")\n",
    "    \n",
    "    ## typeset and print\n",
    "    for row in rows:\n",
    "        typeset_row = \"\"\n",
    "        for column in columns:\n",
    "            typeset_row += data[row][column]    \n",
    "        print(typeset_row)\n",
    "    \n",
    "test_square_root()"
   ]
  },
  {
   "cell_type": "markdown",
   "metadata": {},
   "source": [
    "### Challenge: Exercise 5  (optional)\n",
    "The mathematician Srinivasa Ramanujan found an infinite series that can be used to generate a numerical approximation of\n",
    "$\\frac{1}{\\pi}$:\n",
    "\n",
    "$$\\frac{1}{\\pi} = \\frac{2 \\sqrt{2}}{9801} \\sum_{k=0}^{\\infty} \\frac{(4k)! (1103+26390k)}{(k!)^4 396^{4k}}$$\n",
    " \n",
    "Write a function called `estimate_pi` that uses this formula to compute and return an estimate of $\\pi$. It should use a `while` loop to compute terms of the summation until the last term is smaller than `1e-15` (which is Python notation for $10^{−15}$). You can check the result by comparing it to `math.pi`.\n",
    "\n",
    "[Possible solution](http://thinkpython.com/code/pi.py) (give the exercise a try before viewing the solution)"
   ]
  },
  {
   "cell_type": "code",
   "execution_count": null,
   "metadata": {
    "collapsed": true
   },
   "outputs": [],
   "source": []
  },
  {
   "cell_type": "markdown",
   "metadata": {},
   "source": [
    "## Reading Journal feedback\n",
    "\n",
    "Have any comments on this Reading Journal? Feel free to leave them below and we'll read them when you submit your journal entry. This could include suggestions to improve the exercises, topics you'd like to see covered in class next time, or other feedback.\n",
    "\n",
    "If you have Python questions or run into problems while completing the reading, you should post them to Piazza instead so you can get a quick response before your journal is submitted."
   ]
  },
  {
   "cell_type": "markdown",
   "metadata": {},
   "source": [
    " "
   ]
  }
 ],
 "metadata": {
  "kernelspec": {
   "display_name": "Python 3",
   "language": "python",
   "name": "python3"
  },
  "language_info": {
   "codemirror_mode": {
    "name": "ipython",
    "version": 3
   },
   "file_extension": ".py",
   "mimetype": "text/x-python",
   "name": "python",
   "nbconvert_exporter": "python",
   "pygments_lexer": "ipython3",
   "version": "3.5.1"
  }
 },
 "nbformat": 4,
 "nbformat_minor": 0
}
