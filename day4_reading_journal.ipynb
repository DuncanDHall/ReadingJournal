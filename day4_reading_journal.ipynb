{
 "cells": [
  {
   "cell_type": "markdown",
   "metadata": {},
   "source": [
    "# Day 4 Reading Journal\n",
    "\n",
    "This journal includes several required exercises, but it is meant to encourage active reading more generally.  You should use the journal to take detailed notes, catalog questions, and explore the content from Think Python deeply.\n",
    "\n",
    "Reading: Think Python Chapter 10\n",
    "\n",
    "**Due: Thursday, February 4 at 12 noon**\n",
    "\n"
   ]
  },
  {
   "cell_type": "markdown",
   "metadata": {},
   "source": [
    "## [Chapter 10](http://www.greenteapress.com/thinkpython/html/thinkpython011.html)\n",
    "\n",
    "You may want to review [state diagrams in Chapter 2](http://www.greenteapress.com/thinkpython/html/thinkpython003.html#toc13). [Python Tutor](http://pythontutor.com/) is also helpful for visualizing the state of your program.\n",
    "\n",
    "see notes in day3_reading_journal on 10.1 through 10.6\n",
    "\n",
    "- a variable used with `+=` can be refered to as an **accumulator**\n",
    "- `.pop(index)` is one method to remove an item from a string by index\n",
    "- `del list[index]` also works if you don't need to return the value\n",
    "- `.remove(item)` works when the values is known, not the index, but only removes the first instance. Returns `None`\n",
    "- `list(string)` returns a character list for `string`\n",
    "- `split(string)` will break at spaces or other characters (specified by the **delimiter**)\n",
    "- `'delimiter'.join(list)` returns the list elements joined into a string with the delimeter between items\n",
    "- variables with mutable types can **reference** the same object as another (called **aliasing**):\n",
    "```Python\n",
    "a = [1, 2, 3]\n",
    "b = a\n",
    "b.append(4)\n",
    "a  # returns [1, 2, 3, 4]\n",
    "b  # returns [1, 2, 3, 4]\n",
    "```\n",
    "versus:\n",
    "```Python\n",
    "a = [1, 2, 3]\n",
    "b = [1, 2, 3]\n",
    "b.append(4)\n",
    "a  # returns [1, 2, 3]\n",
    "b  # returns [1, 2, 3, 4]\n",
    "```\n",
    "- when list is passed to a function, the function gets a refernce to the list, so internal changes persist\n",
    "- list methods often return `None`, so after `nums2 = nums1.append(3)`, `nums2` evaluates to `None`.\n",
    "- interesting example here. t is initially an alias for some list, but then is reassigned a different list value, and the original list remains unchanged.\n",
    "```Python\n",
    "def bad_delete_head(t):\n",
    "    t = t[1:]              # WRONG!\n",
    "```\n",
    "- this clears up a question I had about .extend() vs += \n",
    "- EDIT: no it doesn't! `t += ['addendum']` works in a function and alters the reference object, but `t = t + ['addendum']` is no good..."
   ]
  },
  {
   "cell_type": "markdown",
   "metadata": {},
   "source": [
    "### Exercise 4  \n",
    "Write a function called `middle` that takes a list and returns a new list that contains all but the first and last elements. So `middle([1,2,3,4])` should return `[2,3]`."
   ]
  },
  {
   "cell_type": "code",
   "execution_count": 12,
   "metadata": {
    "collapsed": false
   },
   "outputs": [
    {
     "name": "stdout",
     "output_type": "stream",
     "text": [
      "[2, 3, 4, 5, 6, 7, 8, 9]\n"
     ]
    }
   ],
   "source": [
    "def middle(t):\n",
    "    return t[1:-1]\n",
    "\n",
    "numbers = [1, 2, 3, 4, 5, 6, 7, 8, 9, 10] \n",
    "# In Python3, range(1,10) returns range(1,10) because range() was replaced with Python2's xrange()\n",
    "print(middle(range))\n"
   ]
  },
  {
   "cell_type": "markdown",
   "metadata": {},
   "source": [
    "### Exercise 5  \n",
    "Write a function called `chop` that takes a list, modifies it by removing the first and last elements, and returns `None`.\n",
    "\n",
    "What is the difference between `middle` and `chop`? Sketch out the program state or take a look at each in Python Tutor."
   ]
  },
  {
   "cell_type": "code",
   "execution_count": 35,
   "metadata": {
    "collapsed": false
   },
   "outputs": [
    {
     "name": "stdout",
     "output_type": "stream",
     "text": [
      "[1, 2, 3, 4, 5, 6, 7, 8, 9, 10]\n",
      "[2, 3, 4, 5, 6, 7, 8, 9]\n",
      "[2, 3, 4, 5, 6, 7, 8, 9]\n"
     ]
    }
   ],
   "source": [
    "def chop(t):\n",
    "    t.pop(0)\n",
    "    t.pop(-1)\n",
    "    return t\n",
    "numbers = [1, 2, 3, 4, 5, 6, 7, 8, 9, 10] \n",
    "print(numbers)\n",
    "print(chop(numbers))\n",
    "print(numbers)"
   ]
  },
  {
   "cell_type": "markdown",
   "metadata": {},
   "source": [
    "### Exercise 7  \n",
    "Two words are anagrams if you can rearrange the letters from one to spell the other. Write a function called `is_anagram` that takes two strings and returns `True` if they are anagrams."
   ]
  },
  {
   "cell_type": "code",
   "execution_count": 52,
   "metadata": {
    "collapsed": false
   },
   "outputs": [
    {
     "name": "stdout",
     "output_type": "stream",
     "text": [
      "True\n",
      "True\n",
      "False\n",
      "False\n",
      "False\n",
      "False\n"
     ]
    }
   ],
   "source": [
    "def is_anagram(word1, word2):\n",
    "    w1 = word1.lower()\n",
    "    w2 = word2.lower()\n",
    "    for char in w1:\n",
    "        if char not in w2:\n",
    "            return False\n",
    "    for char in w2:\n",
    "        if char not in w1:\n",
    "            return False\n",
    "    for char in w1:\n",
    "        if w1.count(char) != w2.count(char):\n",
    "            return False\n",
    "            \n",
    "    return True\n",
    "    \n",
    "print(is_anagram('word','drow'))      # T\n",
    "print(is_anagram('Word','drOw'))      # T\n",
    "print(is_anagram('word','row'))       # F\n",
    "print(is_anagram('word','drows'))     # F\n",
    "print(is_anagram('wordd','drow'))     # F\n",
    "print(is_anagram('word','droww'))     # F"
   ]
  },
  {
   "cell_type": "markdown",
   "metadata": {},
   "source": [
    "### Exercise 8  \n",
    "The (so-called) Birthday Paradox:\n",
    "1. Write a function called `has_duplicates` that takes a list and returns `True` if there is any element that appears more than once. It should not modify the original list.\n",
    "2. If there are 23 students in your class, what are the chances that two of you have the same birthday? You can estimate this probability by generating random samples of 23 birthdays and checking for matches. Hint: you can generate random birthdays with the randint function in the [random module](https://docs.python.org/2/library/random.html).\n",
    "\n",
    "You can read about this problem at http://en.wikipedia.org/wiki/Birthday_paradox, and you can download Allen's solution from http://thinkpython.com/code/birthday.py."
   ]
  },
  {
   "cell_type": "code",
   "execution_count": 84,
   "metadata": {
    "collapsed": false
   },
   "outputs": [
    {
     "name": "stdout",
     "output_type": "stream",
     "text": [
      "True\n",
      "False\n",
      "True\n",
      "False\n",
      "[1, 2, 3, 4, 5, 1]\n"
     ]
    }
   ],
   "source": [
    "def has_duplicates(test_list):\n",
    "    for item in test_list:\n",
    "        t = test_list + []    # prevent aliasing\n",
    "        t.remove(item)\n",
    "        if item in t:\n",
    "            return True\n",
    "    return False\n",
    "\n",
    "# def has_duplicates(t):    # doesn't work , didn't get around to figuring out why...\n",
    "#     t_rev = t + []\n",
    "#     t_rev.reverse()\n",
    "#     for item in t:\n",
    "#         if t.index(item) != t_rev.index(item):\n",
    "#             return True\n",
    "#     return False\n",
    "\n",
    "my_list = [1,2,3,4,5,1]\n",
    "print(has_duplicates(my_list))              # True\n",
    "print(has_duplicates([[1,2],3,4,5,1]))      # False\n",
    "print(has_duplicates([[1,2],3,4,5,[1,2]]))  # True\n",
    "print(has_duplicates([1,2,3,4,5,6]))        # False\n",
    "print(my_list)   # mutable list still intact"
   ]
  },
  {
   "cell_type": "code",
   "execution_count": 154,
   "metadata": {
    "collapsed": false
   },
   "outputs": [
    {
     "name": "stdout",
     "output_type": "stream",
     "text": [
      "{'share': 5138, 'no_share': 4862}\n",
      "The probability of any two people in %s is about 51.4 %\n"
     ]
    }
   ],
   "source": [
    "from random import randint\n",
    "\n",
    "tally = {'share': 0, 'no_share': 0}\n",
    "number_of_tests = 10000\n",
    "people = 23\n",
    "\n",
    "for _ in range(number_of_tests):\n",
    "    # generate birthdays list\n",
    "    birthdays = []\n",
    "    for person in range(people):\n",
    "        birthdays.append(randint(1,365))\n",
    "\n",
    "    if has_duplicates(birthdays):\n",
    "        tally['share'] += 1\n",
    "    else:\n",
    "        tally['no_share'] += 1\n",
    "\n",
    "    def has_duplicates(test_list):\n",
    "        for item in test_list:\n",
    "            t = test_list + []    # prevent aliasing\n",
    "            t.remove(item)\n",
    "            if item in t:\n",
    "                return True\n",
    "        return False\n",
    "\n",
    "print(tally)\n",
    "chance_of_shared = float(tally['share']) / number_of_tests\n",
    "percentage_str = str(round(chance_of_shared * 100,1)) + ' %'\n",
    "print(\"The probability of any two people in %s is about \" + percentage_str) #%s\" % (people, chance_of_shared))"
   ]
  },
  {
   "cell_type": "markdown",
   "metadata": {},
   "source": [
    "### Challenge: Exercise 11 (optional)\n",
    "\n",
    "You should read [Chapter 9.1](http://www.greenteapress.com/thinkpython/html/thinkpython010.html) and do Exercise 1 first.\n",
    "\n",
    "To check whether a word is in the word list, you could use the `in` operator, but it would be relatively slow because it searches through the words in order (try it).\n",
    "\n",
    "Because the words are in alphabetical order, we can speed things up with a bisection search (also known as binary search), which is similar to what you do when you look a word up in the dictionary. You start in the middle and check to see whether the word you are looking for comes before the word in the middle of the list. If so, then you search the first half of the list the same way. Otherwise you search the second half.\n",
    "\n",
    "Either way, you cut the remaining search space in half. If the word list has 113,809 words, it will take about 17 steps to find the word or conclude that it’s not there.\n",
    "\n",
    "Write a function called `bisect` that takes a sorted list and a target value and returns the index of the value in the list, if it’s there, or `None` if it’s not.\n",
    "\n",
    "Or you could read the documentation of the `bisect` module and use that! Solution: http://thinkpython.com/code/inlist.py."
   ]
  },
  {
   "cell_type": "code",
   "execution_count": null,
   "metadata": {
    "collapsed": true
   },
   "outputs": [],
   "source": []
  },
  {
   "cell_type": "markdown",
   "metadata": {},
   "source": [
    "## Reading Journal feedback\n",
    "\n",
    "Have any comments on this Reading Journal? Feel free to leave them below and we'll read them when you submit your journal entry. This could include suggestions to improve the exercises, topics you'd like to see covered in class next time, or other feedback.\n",
    "\n",
    "If you have Python questions or run into problems while completing the reading, you should post them to Piazza instead so you can get a quick response before your journal is submitted."
   ]
  },
  {
   "cell_type": "markdown",
   "metadata": {},
   "source": [
    " "
   ]
  }
 ],
 "metadata": {
  "kernelspec": {
   "display_name": "Python 3",
   "language": "python",
   "name": "python3"
  },
  "language_info": {
   "codemirror_mode": {
    "name": "ipython",
    "version": 3
   },
   "file_extension": ".py",
   "mimetype": "text/x-python",
   "name": "python",
   "nbconvert_exporter": "python",
   "pygments_lexer": "ipython3",
   "version": "3.5.1"
  }
 },
 "nbformat": 4,
 "nbformat_minor": 0
}
