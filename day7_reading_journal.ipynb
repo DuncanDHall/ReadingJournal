{
 "cells": [
  {
   "cell_type": "markdown",
   "metadata": {},
   "source": [
    "# Day 7 Reading Journal\n",
    "\n",
    "This journal includes several required exercises, but it is meant to encourage active reading more generally.  You should use the journal to take detailed notes, catalog questions, and explore the content from Think Python deeply.\n",
    "\n",
    "Reading: Think Python Chapter 11, 12\n",
    "\n",
    "**Due: Thursday, February 18 at 12 noon**\n",
    "\n"
   ]
  },
  {
   "cell_type": "markdown",
   "metadata": {},
   "source": [
    "## [Chapter 11](http://www.greenteapress.com/thinkpython/html/thinkpython012.html)\n",
    "- dictionaries are cool, and a thing. Marked with these: `{}`\n",
    "- entered with `my_dictionary['key'] = 'value'`\n",
    "- dictionaries are not ordered, and thus they cannot be fetchet with indices\n",
    "- keyword `in` only checks keys. `.values()` returns the list of values so that `in` can work\n",
    "- dictionaries can be a convenient way to take handle multiple counts at once:\n",
    "```Python\n",
    "d = dict()\n",
    "    for c in s:\n",
    "        if c not in d:\n",
    "            d[c] = 1 \n",
    "        else:\n",
    "            d[c] += 1\n",
    "return d\n",
    "# or more concisely using .get('key', default_value)\n",
    "d = dict()\n",
    "    for c in s:\n",
    "        d[c] = d.get(c, 0) + 1\n",
    "return d\n",
    "```\n",
    "- `for` loops traverse dictionaries by keys\n",
    "- **global variables** are interesting in their behavior:\n",
    "    - to change a global variable within a function, one must *declare* it like this:\n",
    "```python\n",
    "been_called = False\n",
    "def example():\n",
    "    global been_called\n",
    "    been_called = True\n",
    "```\n",
    "- QUESTION: how can a child function access variables declared in the parent?\n",
    "- quick aside: `True == 1` and `False == 0`, so booleans can be used as indices in lists!! Shweet\n",
    "- in python 2, large integers are marked with an L and are of type `long`"
   ]
  },
  {
   "cell_type": "markdown",
   "metadata": {},
   "source": [
    "## Chapter 12\n",
    "- tuples are a lot like lists, but are immutable.\n",
    "- tuples are represented with `(item1, item2, ...)`\n",
    "- to create a tuple with a single element, your have to include a trailing comma: ('a',)\n",
    "- accessed the same way as lists with `my_tuple[index]`\n",
    "- slices work with tuples\n",
    "- tuple assignment is handy sometimes, like in the classic \"swap values of `a` and `b`\" problem:"
   ]
  },
  {
   "cell_type": "code",
   "execution_count": 2,
   "metadata": {
    "collapsed": false
   },
   "outputs": [
    {
     "name": "stdout",
     "output_type": "stream",
     "text": [
      "5 3\n"
     ]
    }
   ],
   "source": [
    "a, b = 3, 5\n",
    "a, b = b, a\n",
    "print a, b"
   ]
  },
  {
   "cell_type": "markdown",
   "metadata": {},
   "source": [
    "- another example of utility:\n",
    "```Python\n",
    "addr = 'monty@python.org'\n",
    "uname, domain = addr.split('@')\n",
    "```\n",
    "- functions can return tuples, which is better than returning lists when you don't need to edit anything\n",
    "- `*` operator is used to **scatter** or **gather**, which allow you to pass a tuple to a function as multiple arguments, or gather multiple arguments into one tuple parameter\n",
    "- `dictionary.items()` returns a list of tuples, each a key-value pair\n",
    "- `dict(dictionary.items())` returns `dictionary`\n",
    "- `zip(item1, item2)` returns a list of tuples with each element of `item1` mathed to the same index in `item2`\n",
    "- this works:\n",
    "```Python\n",
    "for key, val in d.items():\n",
    "    print val, key\n",
    "```\n",
    "- unlike lists, tuples can be used in dictionaries as keys (\n",
    "- when comparing tuples, python compares the first elements, and only compares subsequent elements if the first are equal\n",
    "- tulpes are helpful in DSU patterns (jfgi)\n",
    "- three main uses for tuples:\n",
    "    - handling multi-componant argements to functions\n",
    "    - dictionary keys\n",
    "    - returning multiple arguments"
   ]
  },
  {
   "cell_type": "markdown",
   "metadata": {},
   "source": [
    "**Quick check:** In about one sentence using your own words, what is a dictionary?"
   ]
  },
  {
   "cell_type": "markdown",
   "metadata": {},
   "source": [
    "A dictionary is an unordered collection of key: value pairs."
   ]
  },
  {
   "cell_type": "markdown",
   "metadata": {
    "is_question": true,
    "problem": "Exercise 11.2"
   },
   "source": [
    "### Exercise 2  \n",
    "\n",
    "Dictionaries have a [method called `get`](https://docs.python.org/2/library/stdtypes.html#mapping-types-dict) that takes a key and a default value. If the key appears in the dictionary, `get` returns the corresponding value; otherwise it returns the default value. For example:\n",
    "\n",
    "```\n",
    ">>> h = histogram('a')\n",
    ">>> print h\n",
    "{'a': 1}\n",
    ">>> h.get('a', 0)\n",
    "1\n",
    ">>> h.get('b', 0)\n",
    "0\n",
    "```\n",
    "\n",
    "Use `get` to write `histogram` more concisely. You should be able to eliminate the `if` statement. Add unit tests for your histogram implementation."
   ]
  },
  {
   "cell_type": "code",
   "execution_count": 9,
   "metadata": {
    "collapsed": false,
    "solution": "Exercise 11.2"
   },
   "outputs": [
    {
     "data": {
      "text/plain": [
       "TestResults(failed=0, attempted=3)"
      ]
     },
     "execution_count": 9,
     "metadata": {},
     "output_type": "execute_result"
    }
   ],
   "source": [
    "def histogram(s):\n",
    "    ''' maps items in s to their frequency in s as a dicitonary\n",
    "    >>> histogram('banana')\n",
    "    {'a': 3, 'b': 1, 'n': 2}\n",
    "    >>> softdes = ['list comprehensions!']*39 + ['recursion!']*85 + ['truthy statements!']*3\n",
    "    >>> histogram(softdes)\n",
    "    {'truthy statements!': 3, 'recursion!': 85, 'list comprehensions!': 39}\n",
    "    '''\n",
    "    d = dict()\n",
    "    for c in s:\n",
    "        d[c] = d.get(c, 0) + 1\n",
    "    return d\n",
    "\n",
    "import doctest\n",
    "doctest.testmod()"
   ]
  },
  {
   "cell_type": "markdown",
   "metadata": {
    "is_question": true,
    "problem": "Exercise 11.4"
   },
   "source": [
    "### Exercise 4  \n",
    "\n",
    "Modify `reverse_lookup` so that it builds and returns a list of all keys that map to `v`, or an empty list if there are none. Add unit tests for your implementation."
   ]
  },
  {
   "cell_type": "code",
   "execution_count": 11,
   "metadata": {
    "collapsed": false,
    "solution": "Exercise 11.4"
   },
   "outputs": [
    {
     "data": {
      "text/plain": [
       "TestResults(failed=0, attempted=5)"
      ]
     },
     "execution_count": 11,
     "metadata": {},
     "output_type": "execute_result"
    }
   ],
   "source": [
    "def reverse_lookup(d, v):\n",
    "    ''' creates a list of all keys for v in d\n",
    "    >>> reverse_lookup({'a': 3, 'b': 1, 'n': 2}, 2)\n",
    "    ['n']\n",
    "    >>> reverse_lookup({'a': 'string', 'b': 147, 'c': 'string'}, 'string')\n",
    "    ['a', 'c']\n",
    "    '''\n",
    "    keys = []\n",
    "    for k in d:\n",
    "        if d[k] == v:\n",
    "            keys.append(k)\n",
    "\n",
    "    if keys:\n",
    "        return keys\n",
    "    else:\n",
    "        raise ValueError\n",
    "        \n",
    "import doctest\n",
    "doctest.testmod()"
   ]
  },
  {
   "cell_type": "markdown",
   "metadata": {},
   "source": [
    "If you'd like to learn more about errors and exceptions, you can check out the [Python tutorial](https://docs.python.org/2/tutorial/errors.html) or read ahead to [Appendix A](http://www.greenteapress.com/thinkpython/html/thinkpython021.html) of Think Python. If you choose to use doctest for your unit testing, it can also [deal with exceptions](https://docs.python.org/2/library/doctest.html#what-about-exceptions)."
   ]
  },
  {
   "cell_type": "markdown",
   "metadata": {},
   "source": [
    "**Quick check** What type of objects can be used as keys to a dictionary, i.e. what property must they have?"
   ]
  },
  {
   "cell_type": "markdown",
   "metadata": {},
   "source": [
    "Keys in dictionaryis can be of any **immutable** type. "
   ]
  },
  {
   "cell_type": "markdown",
   "metadata": {
    "is_question": true,
    "problem": "Exercise 11.6"
   },
   "source": [
    "### Exercise 6 (modified)\n",
    "\n",
    "Create a memoized version of your Levenshtein distance function from Day 7. What kind of performance change do you see?\n",
    "\n",
    "Optional: If you'd like to get some quantitative results, you could check out the [timeit](https://docs.python.org/2/library/timeit.html) module\n",
    "\n",
    "Note: You can also study Fibonacci here if you prefer."
   ]
  },
  {
   "cell_type": "code",
   "execution_count": 17,
   "metadata": {
    "collapsed": false,
    "solution": "Exercise 11.6"
   },
   "outputs": [
    {
     "data": {
      "text/plain": [
       "TestResults(failed=0, attempted=9)"
      ]
     },
     "execution_count": 17,
     "metadata": {},
     "output_type": "execute_result"
    }
   ],
   "source": [
    "def lev_distance(a, b, history={}):\n",
    "    ''' returns the Levenshtein distance between a and b\n",
    "    >>> lev_distance('kitten', 'smitten')\n",
    "    2\n",
    "    >>> lev_distance('beta', 'pedal')\n",
    "    3\n",
    "    >>> lev_distance('battle', 'bet')\n",
    "    4\n",
    "    >>> lev_distance('agtctggggcatcgggccgtcagcggccgacacgaccaggatcgcgccgtccatctgcgcggcaccggtgatcatgttcttgacgtagtcggcgtggc', 'cggggcagtcgacgtgcgcgtaatgacgcgcatcgctctcgtactccacgtgcgccgtggcaatggtgatgccgcgctcacgctcttccggggcgttgt')\n",
    "    45\n",
    "    '''\n",
    "    if (a, b) in history:\n",
    "        return history[a, b]\n",
    "    \n",
    "    if not a:\n",
    "        return len(b)\n",
    "    if not b:\n",
    "        return len(a)\n",
    "    \n",
    "    if a[0] == b[0]:\n",
    "        option1 = 0 + lev_distance(a[1:], b[1:])\n",
    "    else:\n",
    "        option1 = 1 + lev_distance(a[1:], b[1:])\n",
    "    option2 = 1 + lev_distance(a[1:], b)\n",
    "    option3 = 1 + lev_distance(a, b[1:])\n",
    "\n",
    "    distance = min(option1, option2, option3)\n",
    "    history[a, b] = distance\n",
    "    return distance\n",
    "\n",
    "import doctest\n",
    "doctest.testmod()"
   ]
  },
  {
   "cell_type": "markdown",
   "metadata": {},
   "source": [
    "## [Chapter 12](http://www.greenteapress.com/thinkpython/html/thinkpython013.html)\n",
    "\n",
    "**Quick check:** In about one sentence using your own words, what is a tuple?"
   ]
  },
  {
   "cell_type": "markdown",
   "metadata": {},
   "source": [
    "A tuple is an immutable sequence used to gather multiple arguments together to pass into a function, return, or use as a dictionary key primarily."
   ]
  },
  {
   "cell_type": "markdown",
   "metadata": {
    "is_question": true,
    "problem": "Exercise 12.1"
   },
   "source": [
    "### Exercise 1  \n",
    "\n",
    "Many of the built-in functions use variable-length argument tuples. For example, `max` and `min` can take any number of arguments:\n",
    "\n",
    "```\n",
    ">>> max(1,2,3)\n",
    "3\n",
    "```\n",
    "\n",
    "But `sum` does not.\n",
    "\n",
    "```\n",
    ">>> sum(1,2,3)\n",
    "TypeError: sum expected at most 2 arguments, got 3\n",
    "```\n",
    "\n",
    "Write a function called ```sumall``` that takes any number of arguments and returns their sum. \n",
    "\n",
    "Write unit tests for your function. Do I actually need to keep saying this? Let's assume it's always a good idea :)"
   ]
  },
  {
   "cell_type": "code",
   "execution_count": 21,
   "metadata": {
    "collapsed": false,
    "solution": "Exercise 12.1"
   },
   "outputs": [
    {
     "data": {
      "text/plain": [
       "TestResults(failed=0, attempted=13)"
      ]
     },
     "execution_count": 21,
     "metadata": {},
     "output_type": "execute_result"
    }
   ],
   "source": [
    "def sumall(*args):\n",
    "    ''' returns the sum of all arguments\n",
    "    >>> sumall('a', 'b', 'c', 'd')\n",
    "    'abcd'\n",
    "    >>> sumall(1, 2, 3, 4)\n",
    "    10\n",
    "    >>> sumall([])\n",
    "    []\n",
    "    >>> sumall([1, 2, 3], [4, 5, 6])\n",
    "    [1, 2, 3, 4, 5, 6]\n",
    "    '''\n",
    "    if isinstance(args[0], (int, float)):\n",
    "        total = 0\n",
    "    elif isinstance(args[0], list):\n",
    "        total = []\n",
    "    elif isinstance(args[0], str):\n",
    "        total = \"\"\n",
    "        \n",
    "    for arg in args:\n",
    "        total += arg\n",
    "        \n",
    "    return total\n",
    "\n",
    "import doctest\n",
    "doctest.testmod()\n"
   ]
  },
  {
   "cell_type": "markdown",
   "metadata": {},
   "source": [
    "If you're interested in more flexible ways to pass arguments to functions, check out the [Python tutorial](https://docs.python.org/2/tutorial/controlflow.html#more-on-defining-functions). For instance, you can also use keyword arguments, which are collected into a dictionary just like `*` gathers variable numbers of positional arguments into a tuple.\n",
    "\n",
    "This pattern is very common for defining functions with complex optional behaviors in Python, and you will often see definitions like:\n",
    "\n",
    "```\n",
    "def my_func(required_argument1, *arguments, **keywords):\n",
    "    ...\n",
    "```"
   ]
  },
  {
   "cell_type": "markdown",
   "metadata": {
    "is_question": true,
    "problem": "Exercise 12 sort"
   },
   "source": [
    "### Exercise\n",
    "\n",
    "Write a function `sort_by_last_letter` that takes a list of words and returns a new list with the words sorted alphabetically by the _last letter_ in the word. Hint: use the **Decorate, Sort, Undecorate** pattern. Write unit tests for your function."
   ]
  },
  {
   "cell_type": "code",
   "execution_count": 29,
   "metadata": {
    "collapsed": false,
    "solution": "Exercise 12 sort"
   },
   "outputs": [
    {
     "data": {
      "text/plain": [
       "TestResults(failed=0, attempted=14)"
      ]
     },
     "execution_count": 29,
     "metadata": {},
     "output_type": "execute_result"
    }
   ],
   "source": [
    "def sort_by_last_letter(word_list):\n",
    "    ''' sorts words in word list by last letter\n",
    "    >>> sort_by_last_letter(['Write', 'unit', 'tests', 'for', 'your', 'function'])\n",
    "    ['Write', 'function', 'for', 'your', 'tests', 'unit']\n",
    "    '''\n",
    "    t = []\n",
    "    for word in word_list:\n",
    "        t.append((word[-1], word))\n",
    "    t.sort()\n",
    "        \n",
    "    words = []\n",
    "    \n",
    "    for word in t:\n",
    "        words.append(word[1])\n",
    "    return words\n",
    "\n",
    "import doctest\n",
    "doctest.testmod()"
   ]
  },
  {
   "cell_type": "markdown",
   "metadata": {},
   "source": [
    "**Quick check** Give an example of when you might use each sequence type:\n",
    "\n",
    "- tuple\n",
    "\n",
    "- list\n",
    "\n",
    "- string"
   ]
  },
  {
   "cell_type": "markdown",
   "metadata": {},
   "source": [
    "tuple - for returning multiple pieces of information from a single function\n",
    "list - for grouping items in a sequence which I want to manipulate (i.e. sort)\n",
    "string - doing analysis of words/strings at the character level"
   ]
  },
  {
   "cell_type": "markdown",
   "metadata": {
    "is_question": true,
    "problem": "Exercise 12.3"
   },
   "source": [
    "### Exercise 3  \n",
    "\n",
    "Write a function called `most_frequent` that takes a string and prints the letters in decreasing order of frequency. Find text samples from several different languages and see how letter frequency varies between languages. Compare your results with the tables at http://en.wikipedia.org/wiki/Letter_frequencies. \n",
    "\n",
    "Allen's solution (try it on your own first): http://thinkpython.com/code/most_frequent.py. "
   ]
  },
  {
   "cell_type": "code",
   "execution_count": 43,
   "metadata": {
    "collapsed": false,
    "solution": "Exercise 12.3"
   },
   "outputs": [
    {
     "name": "stdout",
     "output_type": "stream",
     "text": [
      "[(999, ' '), (646, 'e'), (386, 't'), (379, 'i'), (354, 'a'), (327, 'r'), (302, 'n'), (298, 's'), (291, 'o'), (261, 'h'), (224, 'l'), (212, 'd'), (199, 'g'), (152, 'm'), (128, 'u'), (127, 'f'), (117, '.'), (94, 'v'), (93, 'y'), (93, 'w'), (80, 'b'), (65, 'p'), (61, 'c'), (60, \"'\"), (41, ','), (26, 'k'), (7, 'x')]\n",
      "[(1047, ' '), (1026, 'e'), (542, 'n'), (458, 'i'), (394, 't'), (372, 'r'), (348, 's'), (316, 'h'), (291, 'a'), (249, 'g'), (247, 'l'), (212, 'c'), (175, 'm'), (149, 'u'), (130, 'b'), (129, 'd'), (125, 'f'), (117, '.'), (96, 'w'), (94, 'o'), (81, '\\xc3'), (53, 'z'), (53, 'k'), (48, ','), (41, '\\xbc'), (27, 'v'), (18, 'j'), (13, '\\xa4'), (13, '\\x9f'), (8, '\\xb6'), (6, 'p'), (5, '\\x84'), (2, 'y'), (1, '\\x9c'), (1, '-')]\n",
      "[(1195, ' '), (887, 'e'), (518, 's'), (456, 'i'), (439, 'a'), (406, 'r'), (392, 'n'), (348, 't'), (332, 'l'), (329, 'u'), (308, 'o'), (246, 'm'), (232, '\\xc3'), (216, 'd'), (175, 'p'), (121, 'v'), (121, 'c'), (117, '.'), (114, '\\xa9'), (94, 'b'), (60, '\\xa8'), (60, 'f'), (50, ','), (45, 'g'), (44, 'h'), (40, 'q'), (37, \"'\"), (32, 'x'), (26, '\\xaa'), (20, 'z'), (17, 'j'), (15, '-'), (14, '\\xa0'), (6, 'y'), (5, '\\xa2'), (4, '\\xae'), (4, 'w'), (3, '\\xa7'), (2, '\\xb9'), (2, '\\x89'), (1, '\\xaf'), (1, '\\x80')]\n",
      "[(1250, ' '), (807, 'e'), (737, 'a'), (453, 'o'), (450, 'r'), (414, 's'), (407, 'n'), (333, 'i'), (322, 'd'), (284, 'l'), (242, 'u'), (236, 't'), (195, 'c'), (186, 'm'), (149, '\\xc3'), (117, '.'), (105, 'b'), (104, 'p'), (83, 'h'), (77, 'v'), (59, '\\xad'), (58, 'q'), (53, 'g'), (48, ','), (47, 'f'), (37, '\\xa1'), (35, 'j'), (23, 'y'), (22, '\\xa9'), (19, '\\xb1'), (19, 'z'), (11, '\\xb3'), (9, 'x'), (1, '\\xba'), (1, 'w')]\n"
     ]
    }
   ],
   "source": [
    "def most_frequent(S):\n",
    "    ''' returns a sorted list of tuples of letters and frequency in s\n",
    "    >>> most_frequent('find the most frequent')\n",
    "    [(3, 't'), (3, 'e'), (3, ' '), (2, 'n'), (2, 'f'), (1, 'u'), (1, 's'), (1, 'r'), (1, 'q'), (1, 'o'), (1, 'm'), (1, 'i'), (1, 'h'), (1, 'd')]\n",
    "    '''\n",
    "    data_d = {}\n",
    "    s = S.lower()\n",
    "    for char in s:\n",
    "        data_d[char] = data_d.get(char, 0) + 1\n",
    "        \n",
    "#     for char in data_d:\n",
    "#         if char != lower(char)\n",
    "#             data_d[char.lower()] = data_d.get(char.lower(), 0) + data_d[char]\n",
    "#             data_d.pop(char, None)\n",
    "        \n",
    "    data_t = []\n",
    "    \n",
    "    for char in data_d:\n",
    "        data_t.append((data_d[char], char))\n",
    "    data_t.sort(reverse=True)\n",
    "    \n",
    "    return data_t\n",
    "    \n",
    "import doctest\n",
    "# doctest.testmod()\n",
    "\n",
    "print most_frequent(\"Good blessed that man. Cattle them give man i divided, given abundantly beginning upon, god divided morning wherein the. Is to dominion You're without waters cattle third day man image all his hath beast from itself be of likeness Subdue him saying is give given midst earth you his, one seasons beast you'll. Over herb beast, stars sea stars the fruit living spirit without moved kind night spirit called given cattle open spirit Wherein two. Them it gathering whose she'd saying open beginning male meat firmament living gathering all void abundantly moveth isn't won't tree air replenish Fish itself saw one. Brought seasons good, divide one good morning evening heaven, there good blessed had every sixth make you're hath good fowl. Greater you'll likeness appear he doesn't creeping moved creature. Behold. Third void without yielding form without had them their firmament. Blessed appear. Over from, sea fifth wherein. Earth divided. Also were and moving fill give made hath female meat herb saying without rule fruitful fifth. All void saying heaven, fly life behold own were fruitful wherein creepeth. May two divided so make man third god heaven gathered, for one firmament. Our can't. Without. Upon third. Unto have fruit together he likeness years don't kind greater behold, under male all. After first image after night kind Give from years of i made thing Shall light firmament all seas living fourth. Great shall his, stars all moveth over meat had two creeping so there stars for after divide their so day female said form thing green firmament given replenish Were above brought. Let can't in two image grass seed can't. There set. Sixth. May there seasons fly without lesser tree beast face you. Fowl light may tree blessed darkness him. Female multiply rule which. Our behold bring dominion all. I seed man lesser multiply shall. Our have there spirit sea midst second bring. Meat creepeth. You're, itself subdue multiply their meat, creature face can't midst. You'll unto herb is, seasons heaven forth greater make. Won't fifth image. Hath our were blessed isn't you'll shall, from deep great beginning. Thing you saw our given gathered life grass. Creepeth cattle image tree us after male be, was good tree light living he moving form, yielding fish land. Moving after two that you don't he doesn't can't lights together set gathered creepeth blessed evening. Meat over a saw said sea fly spirit. Beast face image void blessed a tree grass wherein earth light saw god cattle. Won't land. Sea very days beast under creeping without. You're earth second winged in, blessed upon you'll. Won't green upon, male a thing created. Them created made morning own of moving. Spirit. Greater bearing multiply don't. Over his so. Meat. You're sixth divided together called to. Kind winged was thing one can't male bearing divided. All make rule beast every. Creeping third thing. Light bring. Seasons female whose won't place waters fruitful seed gathering form creeping meat signs creature female god years which. Fruit male you'll, female. Thing creepeth herb day over doesn't. Likeness you're won't also spirit, night be herb Moveth above kind, light over, morning you. Gathering of. From, firmament fruitful fruit in they're beginning creature so very man let place. Rule isn't to unto of good Him form form you're very beast brought great Said behold won't days days them the signs for under one one, evening seasons one Heaven, face won't, his living also. Grass it day void, lights two a. I let gathering likeness give. Them wherein fifth. Won't, fly multiply. Were set whose you're place us for kind made dry creature. Said. Can't wherein. Divide signs lesser sixth sixth together he. Place. Made It were be firmament years he moved can't gathering signs you Very firmament for Upon he of let morning was, make be creeping you'll divided given. Saying void whales also days likeness said female blessed whales years us their. Third rule lights be hath multiply it in shall meat us face. Land. Meat fly form likeness signs unto one face face. Winged morning had deep the own above beast stars fish above signs, evening. Divide lesser sea form sixth fish was. Is called. Fowl them whales i fill moveth. Appear, saying he. Gathering fifth stars. Years. Make their, were give man from doesn't. Morning appear so. Darkness, second lights all. Stars bearing hath seed she'd fourth unto fly. Can't without upon earth own god Day spirit heaven said signs you're fish divided you'll to green the upon upon may one don't bring to bring behold whales bring light behold own. Shall upon, thing green, meat bring of beginning air. Air. Gathered behold man above Dominion fourth good gathering in and likeness won't. Wherein. It upon cattle third. I from midst them, brought fifth years. Dry itself fish fifth. Fish tree day made creeping meat moveth you'll morning. Seasons over to he cattle fourth Multiply multiply divide greater together he firmament waters. Great years you, itself own you void god. Third evening evening were which said dry divide cattle to great all our spirit was, in brought She'd that man two without itself Us. Said to they're morning fish thing given and. Earth, you're together Herb. Lights. Upon. Abundantly gathered open don't shall spirit. Beast fowl herb land second divide creature creature good for fowl. Subdue appear seas darkness spirit meat there herb one heaven don't. You'll. Let wherein fourth them divided forth void him in is earth don't sea were day, seed. Above air fill shall creature together sea. Bring us great Be them Gathered yielding meat. Fowl fish stars day waters grass form. Greater. There fourth great so abundantly. Let said he wherein hath greater air years behold tree waters living they're appear. Earth lights good whose image god whales have midst of fruit man let lesser Be heaven called winged give don't them image saw gathering void unto good abundantly man rule saw whose morning i fowl likeness there. Sixth under him. Make bearing. Whales make sea.\")\n",
    "print most_frequent(\"Gut gesegnet, dass man. Cattle sie Mann geben i, gegeben geteilt reichlich beginnend auf, gott geteilt Morgen wobei die. Ist zur Herrschaft Du bist ohne Wasser Vieh dritten Tag Mannes alle seine hath Tier aus sich der Ähnlichkeit, ihn mitten Erden geben Subdue sagen wird man seine, ein Jahreszeiten Tier Sie werde. Über Kraut Tier, Sterne die Frucht lebendigen Geist Seesterne ohne Art Nacht Geist genannt gegeben Rinder offenen Geist bewegt, wobei zwei. Sie sammeln sie dessen sie hatte sagen offen männlich Fleisch Firmament Wohn beginnen alle nichtig sammeln reichlich beweget wird nicht nicht Baum Luft Fisch ergänzen sich eine Säge. Gebracht Jahreszeiten gut, einen guten Morgen Abend Himmel teilen, gibt gesegnet gut hatte jeder sechste machen, du bist hat gute Geflügel. Größer werden Sie likeness erscheinen er nicht Kreatur bewegt kriecht. Erblicken. Drittens Leere ohne Form ergibt ohne hatte sie ihre Firmament. Selig erscheinen. Im Laufe von, Meer fünfte bei. Erde geteilt. Auch waren und geben gemacht hat Kraut weibliche Fleisch sagen ohne Regel fruchtbar fünften füllen bewegen. Alle nichtig sagen Himmel, fliegen Leben siehe eigenen waren fruchtbar wobei kriecht. zwei gesammelt, geteilt Kann ein Firmament so Mann dritte Gott Himmel machen. Unsere nicht. Ohne. Beim dritten. Unto Früchte haben zusammen likeness er Jahre nicht Art größer siehe, unter männlichen alle. Nach dem ersten Bild nach der Nacht von Jahren Geben Art von i Sache vierten allen Meeren leben Firmament leuchten gemacht Soll. Groß wird sein, alle kriecht über Fleisch Sterne waren zwei schleichende so Sterne dort nach ihrer so Tag weibliche sagte Formular Sache grünen Firmament gegeben replenish teilen oben gebracht wurden. Lassen Sie kann nicht in zwei Bildgrassamen kann es nicht. Es gesetzt. Sechste. Kann es Jahreszeiten fliegen Sie ohne geringerem Baum Tier Gesicht. Geflügel-Licht kann gesegnet Baum Dunkelheit ihn. Weiblich mehrfach Regel, welche. Unsere siehe bringen alle Herrschaft. Ich Saatgut Mann weniger vermehren sollen. Unsere haben es Geist Meer inmitten zweite bringen. Fleisch kriecht. Sie sind, unterwerfen sich ihr Fleisch vermehren, Kreatur Gesicht kann nicht mitten unter ihnen. Du wirst zu Kraut ist, Jahreszeiten Himmel her größer machen. Will nicht fünfte Bild. Hat unsere wurden gesegnet ist nicht, dass Sie wird von tiefen großer Anfang. Sache haben Sie unsere gegeben gesammelt Leben Gras. Kriecht Vieh Bild Baum uns nach männlich sein, war guter Baum helle Wohn er bewegte Form, Fisch Land führt. Umzug nach zwei, die du nicht weiß er nicht nicht abends leuchtet zusammen gesetzt gesammelt kriecht gesegnet können. Fleisch über einer Säge sagte Meer fliegen Geist. Beast Gesicht Bild Leere gesegnet einen Baum Gras wobei Erde Licht sah Gott Rinder. Wird nicht landen. Meer sehr Tag Tier unter schleichend ohne. Du bist Erde zweiten Flügel in segnete auf euch werde. Will nicht grün auf, männlich eine Sache geschaffen. Sie geschaffen gemacht Morgen eigenen zu bewegen. Geist. Größere Lager nicht vermehren. Im Laufe seiner so. Fleisch. Du sechsten zusammen geteilt aufgerufen. Art geflügelten war, was man kann nicht männlich Lager geteilt. Alle machen jede Regel Tier. Schleichende dritte Sache. Licht bringen. Jahreszeiten weibliche dessen nicht Gewässern fruchtbaren Samen Versammlung Form Fleisch Anzeichen Wesen weiblicher Gott Jahren schleichend statt. Obst männlich Sie werden es tun, weiblich. Thing kriecht Kraut Tag über nicht. Likeness du bist will nicht auch Geist, Nacht Kraut werden kriecht über Art, Lichtübermorgen Sie. Gathering of. Von, Firmament fruchtbare Obst in sie beginnen Wesen so sehr Mann Platz lassen. Regel ist nicht zu zu guter Ihm Form Form bist du sehr Tier brachte große Said siehe wird nicht Tage Tage sie die Anzeichen für unter einem ein, Abend Jahreszeiten ein Himmel, das Gesicht wird nicht, seinen Lebensunterhalt auch. Grass es Tag ungültig, leuchtet zwei ein. Ich lasse das Sammeln Ähnlichkeit geben. Sie bei Fünftel. Wird nicht, Fliegen vermehren. Gesetzt wurden, deren du bist uns für Art gemacht trocken Kreatur platzieren. Sagte. Kann nicht bei. Teilen Sie Anzeichen geringerer sechsten sechsten zusammen er. Ort. Machte es waren Firmament Jahren zog er keine Anzeichen Sammlung kann man sehr Firmament für Upon er von lassen Morgen wurde, stellen Sie schleichen Sie gegeben geteilt werde. Sagen die Leere Wale auch die Tage Ähnlichkeit weiblichen gesegnet Wale Jahre uns ihre. Dritte Regel Lichter hat er denn das sein multiplizieren in soll Fleisch uns gegenüber. Land. Fleisch fliegen Form Ähnlichkeit Zeichen zu einem Gesicht Gesicht. Winged Morgen hatte tief die eigene oben Tier Sterne Fisch oben genannten Anzeichen, Abend. Teilen Sie geringerem Meer Form sechsten Fisch war. Wird genannt. Fowl sie Wale i füllen kriecht. Erscheinen und sagte, er. Das Sammeln fünfte Sterne. Jahre. Machen Sie ihren wurden geben Menschen aus nicht. Morgen erscheint so. Dunkelheit leuchtet zweite alle. Sterne Lager hath Saatgut sie würde vierte zu fliegen. Kann nicht ohne besitzen auf Erden Gott Day Geist Himmel Zeichen der Sie unterteilt Fisch auf grünem Sie werde auf die auf ein bis bringen nicht bringen siehe Wale eigenes Licht erblicken bringen. Soll auf, was grün, Fleisch bringen Luft zu beginnen. Luft. Gesammelt siehe Mann über Dominion vierte gute Versammlung in Eben nicht. Worin. Es über das Vieh Drittel. Ich aus inmitten ihnen brachte das fünfte Jahr. Chemische selbst Fisch Fünftel. Fisch Baum Tag Fleisch kriechend regt Sie werde Morgen. Jahreszeiten über er Vieh vierten Multiply teilen mehrfach größer zusammen er Firmament Gewässer. Große Jahre Sie selbst besitzen Sie nichtig Gott. Drittens Abend Abend waren die das trockene Kluft Vieh zu groß allen unseren Geist war, eingebracht, sie würde, dass der Mensch zwei ohne selbst uns. Angeblich sind sie morgens Fisch Sache gegeben und. Erde, du bist zusammen Herb. Beleuchtung. Auf. Reichlich versammelt nicht öffnen sollen Geist. Tier Geflügel kraut landen zweite Kluft Kreatur Kreatur gut für Geflügel. Unterwerfen Meere Dunkelheit Geist Fleisch dort erscheinen Kraut ein Himmel nicht. Du wirst. Lassen wobei vierten geteilten sie hervor ihm nichtig Erde Meer nicht wissen ist, waren Tag, Saatgut. Vor Luft erfüllen wird zusammen Meeresbewohner. Bringen Sie uns toll sie gesammelt ergab Fleisch. Geflügel Fisch Sterne Tag Gewässer Gras Form. Länger. Es vierte große so reichlich. Lassen Sie uns, sagte er bei der hat größere Luft Jahren Baum Wasser erblicken leben sie erscheinen sind. Erde leuchtet gute dessen Bild Gott Wale haben inmitten von Obst Mann lassen kleiner sein Himmel genannt geflügelten nicht geben ihnen Bild Leere sah das Sammeln zu guten reichlich Mann Regel dort sah, deren Morgen i Geflügel Ähnlichkeit. Sechste unter ihm. Machen Lager. Wale machen Meer.\")\n",
    "print most_frequent(\"Bon béni cet homme. Bovins leur donnent homme i divisée, étant donné commençant abondance sur, Dieu sépara matin dans lequel la. Est à la domination Vous êtes eaux bétail troisième image de l'homme de la journée sans toute sa bête hath d'être lui-même de la ressemblance Subdue lui disant est donnée donner milieu vous la terre de son, une bête saisons vous aurez. Au cours herbe bête, les étoiles les étoiles de mer le fruit vivant esprit sans déplacé esprit de nuit genre appelés bovins données d'ouverture d'esprit dans lequel deux. Eux, il collecte dont elle avait dit ouvert à compter de sexe masculin vivant firmament de la viande rassemblant toutes nulle meut abondance est ne pas l'air d'arbre reconstituer poisson lui-même vu un. saisons apportés bonne, diviser un bon ciel du soir du matin, il y avait une bonne béni chaque marque sixième vous êtes n'a bonne volaille. Plus vous ressemblance semble qu'il n'a pas rampante créature déplacé. Voir. Troisième vide sans céder forme sans eux avait son firmament. Heureux apparaître. Au-dessus de, laquelle cinquième mer. Terre divisée. Étaient également et se déplaçant remplir donner faite n'a herbe de la viande femme disant sans règle cinquième fructueuse. Tout vide disant ciel, voler la vie voici propre furent féconds dans lequel se meut. Peut deux divisé alors assurez troisième homme dieu ciel a réuni, pour une firmament. Notre peux pas. Sans pour autant. Sur la troisième. Unto avoir des fruits ensemble, il la ressemblance années font pas du genre plus voici, sous mâle tout. Après la première image après nuit genre Donnez des années de i chose faite allumerai firmament toutes les mers vivant quatrième. Grande sera la sienne, étoiles Tous se meut sur la viande avait deux rampante donc il étoiles pour diviser après leur soi journée féminine ladite forme chose firmament vert reconstituer donnée étaient au-dessus apporté. Laissez ne peut en deux image semences de gazon ne peut pas. Il réglé. Sixième. Qu'il y saisons voler sans moindre arbre bête face à vous. lumière Fowl arbre peut obscurité bénit. règle multiplient femelle. Notre voici apporter domination tout. J'ensemencer homme de moindre envergure se multiplient doit. Notre Y at-il au milieu de la mer esprit deuxième apporter. Viande rampe. Vous êtes, se soumettre multiplier leur viande, le visage de créature ne peut pas au milieu. Vous aurez jusqu'à herbe est, saisons ciel de suite plus grande marque. Ne sera pas la cinquième image. Hath notre été béni est pas vous doit, du plus profond excellent début. Chose que vous avez vu notre recueillies herbe vie donnée. Rampent image bétail arbre nous après mâle soit, était bien vivre de la lumière de l'arbre, il se déplaçant forme, ce qui donne la terre de poisson. Déplacement après deux que vous ne le faites pas, il ne peut pas mettre en lumières ensemble rampe béni soir recueillies. La viande sur une scie dit esprit à la mouche de la mer. Bête image de visage vide béni une herbe d'arbre dans lequel la lumière de la terre a vu le bétail dieu. Ne sera pas atterrir. Sea mêmes jours bête sous rampante sans. Vous êtes la terre deuxième ailé, béni sur vous aurez. Ne sera pas vert après, une chose mâle créé. Les créa faites matin propre de se déplacer. Esprit. Grand palier ne multipliez pas. Au cours de sa sorte. Moi à. Vous sixième divisée ainsi appelés à. ailé genre était chose que l'on ne peut pas portée mâle divisée. Tous font règle bête tous. Creeping troisième chose. Lumière apporter. Saisons femme dont ne placera pas les eaux semence féconde forme de rassemblement rampante signes de viande créature dieu femelle années qui. Fruit mâle vous aurez, femelle. Chose rampe jour herbe plus ne fonctionne pas. Représentation vous êtes ne sera pas aussi l'esprit, la nuit se meut herbacée type ci-dessus, la lumière sur, matin. Rassemblement de. De, fruits fructueuse firmament ils commencent créature homme tellement laissez lieu. Règle est de ne pas vers la bonne Lui forme de formulaire, vous êtes très bête apporté une grande voici Saïd ne sera pas days jours eux les signes pour moins d'un un, saisons soir un ciel, le visage ne sera pas, sa vie aussi. Herbe ce jour vide, allume deux a. Je laisse la collecte ressemblance donner. Them laquelle cinquième. Ne sera pas, voler multiplient. Ont été mis dont vous nous placer pour créature sèche nature consentis. Dit. Impossible d'où. Diviser signes moindre sixième sixième ensemble il. Endroit. Il fait étaient des années firmament il déplacé ne peut pas recueillir signes vous Très firmament À il de laisser matin a été, faire ramper vous divisée donné. Dire baleines vides aussi des jours ressemblance ledit femmes baleines bénis nous leur ans. lumières troisième règle sera a se multiplient dans la viande doit nous faire face. Terrain. Viande voler signes sous forme de ressemblance à l'un face à face. Winged matin avait profondes les propres étoiles bête poissons au-dessus au-dessus des signes, le soir. Diviser moindre forme de la mer sixième poisson était. Est appelé. Fowl les baleines i remplissent meut. Apparaître, qu'il dit. Rassembler cinquième étoiles. Années. Assurez-leur, ont été donner à l'homme de ne fonctionne pas. Matin apparaît alors. Obscurité, deuxième lumières tout. Étoiles portant les graines de hath avait-elle quatrième vers mouche. ne peut pas sans posséder sur la terre Jour dieu esprit ciel ledit signes vous poissons annonces divisé vous aurez au vert l'après lors peut-on ne pas apporter d'apporter baleines Voici, apporter la lumière voici propre. Est sur, ce qui est vert, la viande apporter de commencer l'air. Air. Réunis homme voici ci-dessus Dominion quatrième bonne rassemblement et à la ressemblance ne sera pas. Où. Ce troisième sur les bêtes. I de milieu entre eux, apporté la cinquième année. Sec cinquième poisson lui-même. journée de l'arbre de poisson fait rampante viande meut vous aurez matin. Saisons plus à SE bétail quatrième Multipliez divisent multiplient plus ensemble, il eaux firmament. Grandes années vous, même vous propre dieu vide. Troisième soirée du soir étaient laquelle lesdits bovins de diviser sèches à grande tout notre esprit était, en a elle avait cet homme deux sans même nous. Dit qu'ils sont chose du poisson du matin et donné. Terre, vous êtes ensemble Herb. Lumières. Sur. Abondamment recueillies ouverte défaut, elles sont esprit. Bête volaille terre aux herbes deuxième fracture créature La créature bon pour la volaille. Assujettir apparaîtra esprit viande mers de l'obscurité il herbacée un ciel ne. Vous aurez. Laissez laquelle quatrième eux divisés selon lui non avenue en est la terre ne la mer faisait jour, la semence. Au-dessus de remplissage d'air doit créature mer ensemble. Apportez-nous la viande qui donne une grande leur être recueillies. Fowl étoiles de poisson jour arrose forme d'herbe. Plus grand. Il quatrième grand si abondamment. Soit dit qu'il n'a plus dans laquelle années aériennes voient les eaux d'arbres vivants qu'ils apparaissent. Terre allume bon dieu dont l'image baleines ont milieu de fruits homme laisser moindre Soyez le ciel appelé ailes donner ne pas les images de scie collecte vide jusqu'à bonne abondamment règle de l'homme ont vu dont le matin, je ressemblance volaille il. Sixième sous lui. Assurez roulement. Les baleines font mer.\")\n",
    "print most_frequent(\"Bueno bendita que el hombre. Ganado les dan el hombre i dividido, dado abundantemente comenzando a, dios dividido por la mañana en la que el. Es el dominio Eres imagen tercer día el hombre aguas ganado sin todo su hath bestia de sí mismo sea de someter a semejanza de él diciendo es da a medio dado su tierra, una bestia temporadas Vas. Sobre los animales de hierbas, las estrellas estrellas de mar el espíritu vivo de frutas sin alcohol de la noche movido tipo de ganado llamados dados espíritu abierto donde dos. Ellos recopilación cuya diciendo que había abierto a partir de sexo masculino de estar firmamento reunir toda la carne en abundancia vacío se mueve no se va a reponer el árbol no tiene aire pescado en sí veía. temporadas traído buena, dividir una buena noche el cielo de la mañana, no tenían buena bendecido cada sexto crea que eres tiene buena aves. Mayor podrás semejanza parece que no arrastrándose criatura se movió. Mirad. En tercer lugar vacío sin ceder forma sin ellos tenían su firmamento. Bendito aparecer. El relevo de, mar quinta en donde. Tierra dividido. También estaban en movimiento y llenar dan hecho tiene hierba de la carne femenina diciendo sin regla quinta fructífera. Todo vacío diciendo cielo, mosca de la vida propia he aquí fueron fecundos en el que se arrastra. Dos de Mayo dividida así que el tercer hombre cielo dios se reunieron, durante un firmamento. Nuestro no puede. Sin. Tras la tercera. A tener frutos juntos, él la semejanza años NO clase mayor he aquí, bajo todas masculina. Después de la primera imagen después de la noche tipo Dar a partir de años de que hice lo encenderemos firmamento todos los mares que viven cuarta. Grande será la suya, todas las estrellas se mueven sobre la carne tenía dos arrastrándose por lo que no Stars para después dividir su día por lo que dicha forma femenina cosa firmamento verde reponer dieron eran sobre indicado. Deje que puede semillas de césped imagen no en dos, no se puede. Hay conjunto. Sexto. Que haya temporadas volar sin animal cara inferior del árbol usted. la luz de las aves puede árbol bendito oscuridad él. regla femenina, que se multiplican. Nuestro he aquí traer el dominio absoluto. Puedo sembrar hombre inferior se multiplican haré. Nuestro espíritu tiene allí medio segundo mar traer. La carne se arrastra. Usted es, en sí someter a multiplicar su carne, cara criatura no puede medio. Así, a hierba es, temporadas cielo sucesivamente mayor maquillaje. no lo hará quinta imagen. Hath nuestra estabas Bienaventurado no se le deberá, desde lo más profundo gran comienzo. Lo que viste nuestra vida hierba reunidos dado. Se arrastra nos árbol imagen ganado según sea el varón, era bueno estar ligera árbol que forma en movimiento, produciendo la tierra de pescado. Moverse después de dos que no lo hace él no puede no luces juntas establecer arrastra bendecido por la noche se reunieron. Carne sobre una sierra de dicho espíritu mosca mar. Bestia imagen de la cara vacío bendijo una hierba del árbol en el que la luz tierra vio a Dios el ganado. no va a aterrizar. Mar mismos días bestia bajo arrastrándose fuera. Eres la tierra en segundo alas, bienaventurado en Vas. no lo hará en verde, una cosa masculina creada. Los creó hicieron propia la mañana del movimiento. Espíritu. Mayor porte se multiplican no lo hacen. Sobre su manera. Carne. Estás sexto divide en conjunto llamados a. alado tipo era que uno no puede rodamiento macho dividido. Todos hacen cada regla bestia. Arrastrándose tercera cosa. llevar la luz. Estaciones de sexo femenino cuyas aguas no se coloque formulario de recopilación de semilla fecunda rastrero signos de carne criatura años dios femenino que. masculina fruta que va a hacer, femenina. Lo arrastra día hierba más no lo hace. Semejanza que no eres lo hará también el espíritu, la noche se mueven hierba de tipo anterior, la luz sobre, mañana. Encuentro de. Desde, fructuoso fruta firmamento en que están empezando criatura tan hombre dejó su lugar. Regla es no a la buena forma de la forma lo que eres muy bestia trajo gran Said he aquí no va a días los días los signos de menos de un uno, estaciones de noche uno Cielo, la cara no, su vida también. que Grass día vacío, se ilumina una de dos. Dejé que la recopilación de dar semejanza. En donde ellos quinta. no, la mosca se multiplican. Se establecieron cuya estás con nosotros para colocar criatura seca clase hecha. Dijo. en el que no se puede. Divida signos menor sexto sexto juntos él. Lugar. Se hizo pasar años eran firmamento se traslada no puede reunir los signos que muy firmamento de A que deje de mañana fue, hace arrastrarse podrás fraccionadas. Diciendo ballenas vacíos también días semejanza dicha hembra benditos ballenas nosotros sus años. luces tercera regla sean hath se multiplican en la carne deberá nos enfrentamos. Tierra. Carne vuela signos forma semejanza a uno cara a cara. mañana con alas tenía profundos los propios peces estrellas bestia anteriores signos anteriores, tarde. Divida en menor forma mar sexto pescado era. Se llama. Fowl ellos ballenas i llenan se mueven. Aparecerá, diciendo que él. La recopilación de estrellas quinto. Años. Hacer su, se dará hombre de no lo hace. Mañana parece tan. La oscuridad, en segundo lugar se ilumina todo. Estrellas que llevan semillas hath ella había cuarta a la mosca. no puede, sin la tierra propio dios Día espíritu cielo dijo signos que estés peces dividiste Vas a verde sobre el sobre puede uno no traen para llevar ballenas He aquí he aquí traer luz propia. Será, de, cosa verde, carne de llevar a partir del aire. Aire. he aquí el hombre se reunieron por encima de Dominion cuarta reunión en buena y semejanza no lo hará. Donde. Es sobre las bestias tercero. I a partir de medio de ellos, traje de quinto año. Seca quinta pescado en sí. día del árbol de pescado hecha carne se mueve arrastrándose podrás mañana. Temporadas más a él ganado cuarta Multiplicar multiplica dividen mayores juntos, él aguas firmamento. Grandes le años, que en sí propio dios vacío. En tercer lugar la tarde noche fueron los que dijeron que el ganado dividen a secas a gran todo nuestro espíritu fue, en el que se había llevado a ese hombre en sí dos sin nosotros. Dice que son lo pescado por la mañana y dada. Tierra, están juntos de la hierba. Luces. Sobre. Abundantemente recogido abiertas no deberá espíritu. Bestia aves de hierba tierras segunda brecha La criatura bueno para las aves de corral. Someter a aparecer la carne espíritu mares oscuridad hay una hierba de los cielos no. Vas. Deje que los dividieron cuarta sacaron al vacío en la tierra no es el mar fuera de día, la semilla. Por encima de llenado de aire deberá criatura del mar juntos. Nos traen la carne produciendo gran Ser los reunió. día estrellas de pescado aves de aguas forman hierba. Mayor. Hay un gran cuarto tan abundantemente. Let dijo que el que tiene mayores años de aire he aquí aguas que están viviendo árbol aparecen. Tierra ilumina bien cuya imagen Dios ballenas tienen medio de la fruta hombre deje menor Sé el cielo llamado alas no les dará imagen Sierra recopilación de vacío a buena regla hombre abundantemente vieron cuya semejanza mañana i aves allí. Sexta debajo de él. Hacer cojinete. Las ballenas hacen del mar.\")"
   ]
  },
  {
   "cell_type": "markdown",
   "metadata": {
    "is_question": true,
    "problem": "Exercise 12.6"
   },
   "source": [
    "### Challenge: Exercise 6   (optional)\n",
    "\n",
    "From a [Car Talk Puzzler](http://www.cartalk.com/content/puzzlers):\n",
    "\n",
    "What is the longest English word, that remains a valid English word, as you remove its letters one at a time?\n",
    "\n",
    "Now, letters can be removed from either end, or the middle, but you can’t rearrange any of the letters. Every time you drop a letter, you wind up with another English word. If you do that, you’re eventually going to wind up with one letter and that too is going to be an English word—one that’s found in the dictionary. I want to know what’s the longest word and how many letters does it have?\n",
    "\n",
    "I’m going to give you a little modest example: Sprite. Ok? You start off with sprite, you take a letter off, one from the interior of the word, take the r away, and we’re left with the word spite, then we take the e off the end, we’re left with spit, we take the s off, we’re left with pit, it, and I. \n",
    "\n",
    "Write a program to find all words that can be reduced in this way, and then find the longest one.\n",
    "\n",
    "This exercise is a little more challenging than most, so here are some suggestions:\n",
    "\n",
    "- You might want to write a function that takes a word and computes a list of all the words that can be formed by removing one letter. These are the “children” of the word.\n",
    "- Recursively, a word is reducible if any of its children are reducible. As a base case, you can consider the empty string reducible.\n",
    "- The word list from [Chapter 9.1](http://www.greenteapress.com/thinkpython/html/thinkpython010.html) Exercise 1 doesn’t contain single letter words. So you might want to add “I”, “a”, and the empty string.\n",
    "- To improve the performance of your program, you might want to memoize the words that are known to be reducible.\n",
    "\n",
    "Allen's solution: http://thinkpython.com/code/reducible.py."
   ]
  },
  {
   "cell_type": "code",
   "execution_count": null,
   "metadata": {
    "collapsed": true,
    "solution": "Exercise 12.6"
   },
   "outputs": [],
   "source": []
  },
  {
   "cell_type": "markdown",
   "metadata": {
    "is_question": true,
    "problem": "Feedback"
   },
   "source": [
    "## Reading Journal feedback\n",
    "\n",
    "Have any comments on this Reading Journal? Feel free to leave them below and we'll read them when you submit your journal entry. This could include suggestions to improve the exercises, topics you'd like to see covered in class next time, or other feedback.\n",
    "\n",
    "If you have Python questions or run into problems while completing the reading, you should post them to Piazza instead so you can get a quick response before your journal is submitted."
   ]
  },
  {
   "cell_type": "markdown",
   "metadata": {
    "feedback_response": true,
    "solution": "Feedback"
   },
   "source": [
    " "
   ]
  }
 ],
 "metadata": {
  "celltoolbar": "Edit Metadata",
  "kernelspec": {
   "display_name": "Python 2",
   "language": "python",
   "name": "python2"
  },
  "language_info": {
   "codemirror_mode": {
    "name": "ipython",
    "version": 2
   },
   "file_extension": ".py",
   "mimetype": "text/x-python",
   "name": "python",
   "nbconvert_exporter": "python",
   "pygments_lexer": "ipython2",
   "version": "2.7.11"
  }
 },
 "nbformat": 4,
 "nbformat_minor": 0
}
